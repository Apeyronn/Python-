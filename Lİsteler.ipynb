{
 "cells": [
  {
   "cell_type": "markdown",
   "id": "2acf569d",
   "metadata": {},
   "source": [
    "# Listeler (Lists)"
   ]
  },
  {
   "cell_type": "markdown",
   "id": "33cba30e",
   "metadata": {},
   "source": [
    "Önemli Not:**Listelerin köşeli parantezler** ile gösterildiğine dikkat edin!\n",
    "\n",
    "**Listelerin içinde başka listeler de bulunabilir:**"
   ]
  },
  {
   "cell_type": "code",
   "execution_count": 6,
   "id": "dce839fb",
   "metadata": {},
   "outputs": [],
   "source": [
    "liste = [\"Ali\", \"Veli\", [\"Ayşe\", \"Nazan\", \"Zeynep\"], 34, 65, 33, 5.6]\n"
   ]
  },
  {
   "cell_type": "code",
   "execution_count": 7,
   "id": "535fbf0a",
   "metadata": {},
   "outputs": [
    {
     "data": {
      "text/plain": [
       "7"
      ]
     },
     "execution_count": 7,
     "metadata": {},
     "output_type": "execute_result"
    }
   ],
   "source": [
    "len(liste)"
   ]
  },
  {
   "cell_type": "markdown",
   "id": "07e8bf49",
   "metadata": {},
   "source": [
    "**Veri Tipleri**"
   ]
  },
  {
   "cell_type": "code",
   "execution_count": 5,
   "id": "abab1253",
   "metadata": {},
   "outputs": [
    {
     "name": "stdout",
     "output_type": "stream",
     "text": [
      "<class 'list'>\n",
      "<class 'set'>\n",
      "<class 'tuple'>\n"
     ]
    }
   ],
   "source": [
    "liste1=[0,1,2,3,4,5]\n",
    "liste2={0,1,2,3,4,5}\n",
    "liste3=(0,1,2,3,4,5)\n",
    "for i in [liste1, liste2, liste3]:\n",
    "    print(type(i))"
   ]
  },
  {
   "cell_type": "markdown",
   "id": "4c0ac572",
   "metadata": {},
   "source": [
    "**Pozitif İndekslemeyi Kullanarak Liste Öğelerine Erişme ve dilimleme**"
   ]
  },
  {
   "cell_type": "code",
   "execution_count": 50,
   "id": "cca0baa0",
   "metadata": {},
   "outputs": [
    {
     "data": {
      "text/plain": [
       "'B'"
      ]
     },
     "execution_count": 50,
     "metadata": {},
     "output_type": "execute_result"
    }
   ],
   "source": [
    "liste[0] # \"ALİ\"\n",
    "liste[0:2] # 0' dan ikiye kadar\n",
    "liste[:2] # 0'dan ikiye kadar\n",
    "liste[2:] # 2. elemandan sonrakiler\n"
   ]
  },
  {
   "cell_type": "code",
   "execution_count": 54,
   "id": "ae143bd3",
   "metadata": {},
   "outputs": [
    {
     "data": {
      "text/plain": [
       "'Nazan'"
      ]
     },
     "execution_count": 54,
     "metadata": {},
     "output_type": "execute_result"
    }
   ],
   "source": [
    "listee = [\"Ali\", \"Veli\", [\"Ayşe\", \"Nazan\", \"Zeynep\"], 34, 65, 33, 5.6]\n",
    "listee[2][1]"
   ]
  },
  {
   "cell_type": "markdown",
   "id": "d2b44013",
   "metadata": {},
   "source": [
    "**Negatif İndekslemeyi Kullanarak Liste Öğelerine Erişme ve dilimleme**"
   ]
  },
  {
   "cell_type": "code",
   "execution_count": 15,
   "id": "b6ca087f",
   "metadata": {},
   "outputs": [
    {
     "data": {
      "text/plain": [
       "[33, 5.6]"
      ]
     },
     "execution_count": 15,
     "metadata": {},
     "output_type": "execute_result"
    }
   ],
   "source": [
    "liste[-2] # sondan 2. eleman\n",
    "liste[:-2] # sondan ikinci elemandan sonrakilerin hepsi\n",
    "liste[-2:] # sondan ikinci elemanın sağında kalan kısım"
   ]
  },
  {
   "cell_type": "markdown",
   "id": "e6a5a51b",
   "metadata": {},
   "source": [
    "**Split ve Liste**"
   ]
  },
  {
   "cell_type": "code",
   "execution_count": 25,
   "id": "cec86bf0",
   "metadata": {
    "scrolled": false
   },
   "outputs": [
    {
     "name": "stdout",
     "output_type": "stream",
     "text": [
      "İstanbul Büyükşehir Belediyesi\n"
     ]
    },
    {
     "data": {
      "text/plain": [
       "'İ'"
      ]
     },
     "execution_count": 25,
     "metadata": {},
     "output_type": "execute_result"
    }
   ],
   "source": [
    "kardiz = \"İstanbul Büyükşehir Belediyesi\"\n",
    "kardiz.split()\n"
   ]
  },
  {
   "cell_type": "code",
   "execution_count": 26,
   "id": "48d5fd8f",
   "metadata": {},
   "outputs": [
    {
     "name": "stdout",
     "output_type": "stream",
     "text": [
      "['İstanbul', 'Büyükşehir', 'Belediyesi']\n"
     ]
    },
    {
     "data": {
      "text/plain": [
       "'İstanbul'"
      ]
     },
     "execution_count": 26,
     "metadata": {},
     "output_type": "execute_result"
    }
   ],
   "source": [
    "kardiz = \"İstanbul Büyükşehir Belediyesi\"\n",
    "liste=kardiz.split()\n",
    "print(liste)\n",
    "liste[0]"
   ]
  },
  {
   "cell_type": "code",
   "execution_count": 29,
   "id": "d5ebd211",
   "metadata": {},
   "outputs": [
    {
     "data": {
      "text/plain": [
       "['elma', 'armut', 'çilek']"
      ]
     },
     "execution_count": 29,
     "metadata": {},
     "output_type": "execute_result"
    }
   ],
   "source": [
    "kardiz = \"İstanbul Büyükşehir Belediyesi\"\n",
    "print(kardiz)\n",
    "kardiz[0]"
   ]
  },
  {
   "cell_type": "markdown",
   "id": "52ee9acd",
   "metadata": {},
   "source": [
    "**list() Fonksiyonu**"
   ]
  },
  {
   "cell_type": "code",
   "execution_count": 32,
   "id": "8cd52e4a",
   "metadata": {},
   "outputs": [
    {
     "data": {
      "text/plain": [
       "['abcçdefgğhıijklmnoöprsştuüvyz']"
      ]
     },
     "execution_count": 32,
     "metadata": {},
     "output_type": "execute_result"
    }
   ],
   "source": [
    "alfabe = \"abcçdefgğhıijklmnoöprsştuüvyz\"\n",
    "# Gördüğünüz gibi, bu karakter dizisi tek bir parçadan oluşuyor. Dolayısıyla bu karakter dizisini öğelerine\n",
    "#bölmemizi sağlayacak bir ölçüt yok. Yani bu karakter dizisini şu şekilde bölemeyiz:\n",
    "alfabe.split()"
   ]
  },
  {
   "cell_type": "code",
   "execution_count": 33,
   "id": "953c8e48",
   "metadata": {},
   "outputs": [
    {
     "name": "stdout",
     "output_type": "stream",
     "text": [
      "['a', 'b', 'c', 'ç', 'd', 'e', 'f', 'g', 'ğ', 'h', 'ı', 'i', 'j', 'k', 'l', 'm', 'n', 'o', 'ö', 'p', 'r', 's', 'ş', 't', 'u', 'ü', 'v', 'y', 'z']\n"
     ]
    }
   ],
   "source": [
    "harf_listesi = list(alfabe)\n",
    "print(harf_listesi)"
   ]
  },
  {
   "cell_type": "markdown",
   "id": "06949a8a",
   "metadata": {},
   "source": [
    "Böylece list() fonksiyonu yardımıyla bu karakter dizisini tek hamlede listeye çevirmiş olduk."
   ]
  },
  {
   "cell_type": "markdown",
   "id": "f96c6af8",
   "metadata": {},
   "source": [
    "**List fonksiyonu ve range()**"
   ]
  },
  {
   "cell_type": "code",
   "execution_count": 37,
   "id": "cf994802",
   "metadata": {},
   "outputs": [
    {
     "data": {
      "text/plain": [
       "range(0, 10)"
      ]
     },
     "execution_count": 37,
     "metadata": {},
     "output_type": "execute_result"
    }
   ],
   "source": [
    "range(0,10)\n"
   ]
  },
  {
   "cell_type": "code",
   "execution_count": 38,
   "id": "2475f019",
   "metadata": {},
   "outputs": [
    {
     "data": {
      "text/plain": [
       "[0, 1, 2, 3, 4, 5, 6, 7, 8, 9]"
      ]
     },
     "execution_count": 38,
     "metadata": {},
     "output_type": "execute_result"
    }
   ],
   "source": [
    "list(range(0,10))"
   ]
  },
  {
   "cell_type": "markdown",
   "id": "ae2f6590",
   "metadata": {},
   "source": [
    "**Listedeki öğeleri numaralandırmak**"
   ]
  },
  {
   "cell_type": "code",
   "execution_count": 39,
   "id": "98e3f458",
   "metadata": {},
   "outputs": [
    {
     "name": "stdout",
     "output_type": "stream",
     "text": [
      "0. elma\n",
      "1. armut\n",
      "2. çilek\n",
      "3. kiraz\n"
     ]
    }
   ],
   "source": [
    "meyveler = [\"elma\", \"armut\", \"çilek\", \"kiraz\"]\n",
    "\n",
    "for öğe_sırası in range(len(meyveler)):\n",
    "    print(\"{}. {}\".format(öğe_sırası, meyveler[öğe_sırası]))"
   ]
  },
  {
   "cell_type": "code",
   "execution_count": 49,
   "id": "c08f1a25",
   "metadata": {},
   "outputs": [
    {
     "name": "stdout",
     "output_type": "stream",
     "text": [
      "1. elma\n",
      "2. armut\n",
      "3. çilek\n",
      "4. kiraz\n"
     ]
    }
   ],
   "source": [
    "for sıra, öğe in enumerate(meyveler, 1):\n",
    "    print(\"{}. {}\".format(sıra, öğe))"
   ]
  },
  {
   "cell_type": "markdown",
   "id": "3e8d35d8",
   "metadata": {},
   "source": [
    "**Listelerin Öğelerini Değiştirmek**"
   ]
  },
  {
   "cell_type": "markdown",
   "id": "41afc975",
   "metadata": {},
   "source": [
    "karakter dizilerinden söz ederken bunların değiştirilemez (immutable) bir veri tipi olduğunu söylemiştik.\n",
    "Bu özellikten ötürü, bir karakter dizisi üzerinde değişiklik yapmak istediğimizde o karakter dizisini yeniden oluşturuyoruz\n",
    "Örneğin:"
   ]
  },
  {
   "cell_type": "code",
   "execution_count": 62,
   "id": "3be48101",
   "metadata": {},
   "outputs": [
    {
     "data": {
      "text/plain": [
       "'Ystihza'"
      ]
     },
     "execution_count": 62,
     "metadata": {},
     "output_type": "execute_result"
    }
   ],
   "source": [
    "kardiz = \"istihza\"\n",
    "kardiz = \"Y\" + kardiz[1:]\n",
    "kardiz"
   ]
  },
  {
   "cell_type": "markdown",
   "id": "75c7f329",
   "metadata": {},
   "source": [
    "Listeler ise değiştirilebilen (mutable) bir veri tipidir. Dolayısıyla listeler üzerinde doğrudan değişiklik yapabiliriz. Bir liste üzerinde değişiklik yapabilmek için o listeyi yeniden tanımlamamıza gerek yok. Şu örneği dikkatlice inceleyin:"
   ]
  },
  {
   "cell_type": "code",
   "execution_count": 63,
   "id": "8094ef55",
   "metadata": {},
   "outputs": [
    {
     "name": "stdout",
     "output_type": "stream",
     "text": [
      "['kırmızı', 'sarı', 'mavi', 'yeşil', 'beyaz']\n",
      "['siyah', 'sarı', 'mavi', 'yeşil', 'beyaz']\n"
     ]
    }
   ],
   "source": [
    "renkler = [\"kırmızı\", \"sarı\", \"mavi\", \"yeşil\", \"beyaz\"]\n",
    "print(renkler)\n",
    "\n",
    "['kırmızı', 'sarı', 'mavi', 'yeşil', 'beyaz']\n",
    "\n",
    "renkler[0] = \"siyah\"\n",
    "print(renkler)"
   ]
  },
  {
   "cell_type": "code",
   "execution_count": 66,
   "id": "68af95d2",
   "metadata": {},
   "outputs": [
    {
     "name": "stdout",
     "output_type": "stream",
     "text": [
      "[5, 6, 7]\n"
     ]
    }
   ],
   "source": [
    "liste = [1, 2, 3]\n",
    "liste[0:len(liste)] = 5, 6, 7\n",
    "print(liste)"
   ]
  },
  {
   "cell_type": "markdown",
   "id": "707811e2",
   "metadata": {},
   "source": [
    "**Listeye Öğe Eklemek**"
   ]
  },
  {
   "cell_type": "code",
   "execution_count": 67,
   "id": "ebfe2ed0",
   "metadata": {},
   "outputs": [
    {
     "data": {
      "text/plain": [
       "[2, 4, 5, 7, 8]"
      ]
     },
     "execution_count": 67,
     "metadata": {},
     "output_type": "execute_result"
    }
   ],
   "source": [
    "liste = [2, 4, 5, 7]\n",
    "#Bu listeye yeni bir öğe ekleyebilmek için şöyle bir kod yazabiliriz:\n",
    "\n",
    "liste + [8]\n"
   ]
  },
  {
   "cell_type": "markdown",
   "id": "edf5c9a6",
   "metadata": {},
   "source": [
    "**Liste Üreteçleri (List Comprehensions)**"
   ]
  },
  {
   "cell_type": "markdown",
   "id": "e18a8376",
   "metadata": {},
   "source": [
    "Adından da anlaşılacağı gibi, liste üreteçlerinin görevi liste üretmektir. Basit bir örnek ile liste üreteçleri konusuna giriş yapalım:"
   ]
  },
  {
   "cell_type": "code",
   "execution_count": 6,
   "id": "a0701350",
   "metadata": {},
   "outputs": [],
   "source": [
    "liste = [i for i in range(1000)]"
   ]
  },
  {
   "cell_type": "markdown",
   "id": "4c4519ff",
   "metadata": {},
   "source": [
    "Burada 0’dan 1000’e kadar olan sayıları tek satırda bir liste haline getirdik. Bu kodların söz dizimine çok dikkat edin. Aslında yukarıdaki kod şu şekilde de yazılabilir:"
   ]
  },
  {
   "cell_type": "code",
   "execution_count": 7,
   "id": "a3b510ab",
   "metadata": {},
   "outputs": [
    {
     "data": {
      "text/plain": [
       "[0, 1, 2, 3, 4, 5, 6, 7, 8, 9]"
      ]
     },
     "execution_count": 7,
     "metadata": {},
     "output_type": "execute_result"
    }
   ],
   "source": [
    "liste = []\n",
    "\n",
    "for i in range(1000):\n",
    "    liste += [i]"
   ]
  },
  {
   "cell_type": "code",
   "execution_count": null,
   "id": "dc8b3ff5",
   "metadata": {},
   "outputs": [],
   "source": [
    "liste = [i for i in range(1000) if i % 2 == 0]"
   ]
  },
  {
   "cell_type": "markdown",
   "id": "932b5b8c",
   "metadata": {},
   "source": [
    "**Aynı işi for döngüsü ile yapmak için şöyle bir kod yazmamız gerekir:**"
   ]
  },
  {
   "cell_type": "code",
   "execution_count": null,
   "id": "fb25177e",
   "metadata": {},
   "outputs": [],
   "source": [
    "liste = []\n",
    "for i in range(1000):\n",
    "    if i % 2 == 0:\n",
    "        liste += [i]"
   ]
  },
  {
   "cell_type": "markdown",
   "id": "ed1d4f15",
   "metadata": {},
   "source": [
    "**Liste üreteçleri ile ilgili bir örnek daha verelim. Mesela elinizde şöyle bir liste olduğunu düşünün:**"
   ]
  },
  {
   "cell_type": "code",
   "execution_count": 2,
   "id": "af7263fb",
   "metadata": {},
   "outputs": [
    {
     "data": {
      "text/plain": [
       "[1, 2, 3, 4, 5, 6, 7, 8, 9, 10, 11, 12]"
      ]
     },
     "execution_count": 2,
     "metadata": {},
     "output_type": "execute_result"
    }
   ],
   "source": [
    "liste = [[1, 2, 3],\n",
    "         [4, 5, 6],\n",
    "         [7, 8, 9],\n",
    "         [10, 11, 12]]\n",
    "# Burada iç içe geçmiş 4 adet liste var. Bu listenin bütün öğelerini tek bir listeye nasıl alabiliriz? Yani şöyle bir çıktıyı nasıl elde ederiz?\n",
    "\n",
    "[1, 2, 3, 4, 5, 6, 7, 8, 9, 10, 11, 12]"
   ]
  },
  {
   "cell_type": "markdown",
   "id": "cea58a87",
   "metadata": {},
   "source": [
    "**for döngülerini kullanarak şöyle bir kod yazabiliriz**"
   ]
  },
  {
   "cell_type": "code",
   "execution_count": 3,
   "id": "5703b468",
   "metadata": {},
   "outputs": [
    {
     "name": "stdout",
     "output_type": "stream",
     "text": [
      "[1, 2, 3, 4, 5, 6, 7, 8, 9, 10, 11, 12]\n"
     ]
    }
   ],
   "source": [
    "tümü = []\n",
    "\n",
    "for i in liste:\n",
    "    for z in i:\n",
    "        tümü += [z]\n",
    "\n",
    "print(tümü)"
   ]
  },
  {
   "cell_type": "markdown",
   "id": "141e8b47",
   "metadata": {},
   "source": [
    "Liste üreteçleri ise daha kısa bir çözüm sunar:"
   ]
  },
  {
   "cell_type": "code",
   "execution_count": 4,
   "id": "b936bd41",
   "metadata": {},
   "outputs": [
    {
     "name": "stdout",
     "output_type": "stream",
     "text": [
      "[1, 2, 3, 4, 5, 6, 7, 8, 9, 10, 11, 12]\n"
     ]
    }
   ],
   "source": [
    "tümü = [z for i in liste for z in i]\n",
    "print(tümü)"
   ]
  },
  {
   "cell_type": "code",
   "execution_count": null,
   "id": "36529f54",
   "metadata": {},
   "outputs": [],
   "source": []
  }
 ],
 "metadata": {
  "kernelspec": {
   "display_name": "Python 3 (ipykernel)",
   "language": "python",
   "name": "python3"
  },
  "language_info": {
   "codemirror_mode": {
    "name": "ipython",
    "version": 3
   },
   "file_extension": ".py",
   "mimetype": "text/x-python",
   "name": "python",
   "nbconvert_exporter": "python",
   "pygments_lexer": "ipython3",
   "version": "3.9.13"
  }
 },
 "nbformat": 4,
 "nbformat_minor": 5
}
