{
 "cells": [
  {
   "cell_type": "markdown",
   "id": "eddf66c3",
   "metadata": {},
   "source": [
    "# Nested"
   ]
  },
  {
   "cell_type": "code",
   "execution_count": 1,
   "id": "aee2785f",
   "metadata": {},
   "outputs": [
    {
     "name": "stdout",
     "output_type": "stream",
     "text": [
      "(6, 5, 6)\n"
     ]
    }
   ],
   "source": [
    "def mod2plus5(x1,x2,x3):\n",
    "    new_x1 = x1 %2 +5\n",
    "    new_x2 = x2 %2 +5\n",
    "    new_x3 = x3 %2 +5\n",
    "    return(new_x1,new_x2,new_x3)\n",
    "print(mod2plus5(1,2,3))\n",
    "#normal function"
   ]
  },
  {
   "cell_type": "code",
   "execution_count": 2,
   "id": "e7d8a8ae",
   "metadata": {},
   "outputs": [
    {
     "name": "stdout",
     "output_type": "stream",
     "text": [
      "(6, 5, 6)\n"
     ]
    }
   ],
   "source": [
    "def mod2plus5(x1,x2,x3):#1\n",
    "    def inner(x): #3,5.adım x:1\n",
    "        return x%2+5 #6\n",
    "    return(inner(x1),inner(x2),inner(x3)) #4\n",
    "print(mod2plus5(1,2,3)) #2\n",
    "#nested function"
   ]
  },
  {
   "cell_type": "code",
   "execution_count": 3,
   "id": "638e6552",
   "metadata": {},
   "outputs": [
    {
     "name": "stdout",
     "output_type": "stream",
     "text": [
      "Merhaba\n"
     ]
    }
   ],
   "source": [
    "#kod(2)\n",
    "def yazıcı(): #2.adım\n",
    "    def yaz(mesaj): # 3.adım 7.adım mesaj:\"Merhaba\n",
    "        print(mesaj) #8.adım ekrana yazdırma\n",
    "    return yaz #4.adım\n",
    "y = yazıcı() #1.adım  5.adım\n",
    "y(\"Merhaba\") #6.adım"
   ]
  },
  {
   "cell_type": "code",
   "execution_count": 4,
   "id": "653e3f9e",
   "metadata": {},
   "outputs": [
    {
     "name": "stdout",
     "output_type": "stream",
     "text": [
      "Merhaba\n"
     ]
    }
   ],
   "source": [
    "def yazıcı():\n",
    "    def yaz(mesaj):\n",
    "        print(mesaj)\n",
    "    return yaz\n",
    "\n",
    "yazı = yazıcı()  # yaz() fonksiyonu, yazıcı() fonksiyonu tarafından döndürülen fonksiyonu tutar\n",
    "yazı('Merhaba')  # 'Merhaba' yazdırılır\n"
   ]
  },
  {
   "cell_type": "code",
   "execution_count": 5,
   "id": "edb5d3da",
   "metadata": {},
   "outputs": [
    {
     "ename": "TypeError",
     "evalue": "yazıcı() takes 0 positional arguments but 1 was given",
     "output_type": "error",
     "traceback": [
      "\u001b[1;31m---------------------------------------------------------------------------\u001b[0m",
      "\u001b[1;31mTypeError\u001b[0m                                 Traceback (most recent call last)",
      "\u001b[1;32m~\\AppData\\Local\\Temp\\ipykernel_16172\\2564331121.py\u001b[0m in \u001b[0;36m<module>\u001b[1;34m\u001b[0m\n\u001b[0;32m      4\u001b[0m         \u001b[0mprint\u001b[0m\u001b[1;33m(\u001b[0m\u001b[0mmesaj\u001b[0m\u001b[1;33m)\u001b[0m \u001b[1;31m#8.adım ekrana yazdırma\u001b[0m\u001b[1;33m\u001b[0m\u001b[1;33m\u001b[0m\u001b[0m\n\u001b[0;32m      5\u001b[0m     \u001b[1;32mreturn\u001b[0m \u001b[0myaz\u001b[0m \u001b[1;31m#4.adım\u001b[0m\u001b[1;33m\u001b[0m\u001b[1;33m\u001b[0m\u001b[0m\n\u001b[1;32m----> 6\u001b[1;33m \u001b[0myazıcı\u001b[0m\u001b[1;33m(\u001b[0m\u001b[1;34m'merhaba'\u001b[0m\u001b[1;33m)\u001b[0m \u001b[1;31m#1.adım  5.adım\u001b[0m\u001b[1;33m\u001b[0m\u001b[1;33m\u001b[0m\u001b[0m\n\u001b[0m\u001b[0;32m      7\u001b[0m \u001b[1;31m# böyle bir şekilde kullanamıyoruz\u001b[0m\u001b[1;33m\u001b[0m\u001b[1;33m\u001b[0m\u001b[0m\n",
      "\u001b[1;31mTypeError\u001b[0m: yazıcı() takes 0 positional arguments but 1 was given"
     ]
    }
   ],
   "source": [
    "#kod(2)\n",
    "def yazıcı(): #2.adım\n",
    "    def yaz(mesaj): # 3.adım 7.adım mesaj:\"Merhaba\n",
    "        print(mesaj) #8.adım ekrana yazdırma\n",
    "    return yaz #4.adım\n",
    "yazıcı('merhaba') #1.adım  5.adım\n",
    "# böyle bir şekilde kullanamıyoruz"
   ]
  },
  {
   "cell_type": "code",
   "execution_count": 6,
   "id": "91a68113",
   "metadata": {},
   "outputs": [
    {
     "name": "stdout",
     "output_type": "stream",
     "text": [
      "karesi:16\n"
     ]
    }
   ],
   "source": [
    "def hesaplama(x): #1, 3.adım x:4\n",
    "    def kare_al(a): #4,6\n",
    "        return a**2 #7\n",
    "    kare = kare_al(x) #5,8 kare:16\n",
    "    return f\"karesi:{kare}\" #9\n",
    "print(hesaplama(4)) #2,10"
   ]
  },
  {
   "cell_type": "code",
   "execution_count": 7,
   "id": "2f6f4b5b",
   "metadata": {},
   "outputs": [
    {
     "name": "stdout",
     "output_type": "stream",
     "text": [
      "4 64\n"
     ]
    }
   ],
   "source": [
    "#kod(1)\n",
    "def raise_val(n): # 2.adım n:2 8.adım n:3 13.adım n:2\n",
    "    def inner(x): # 3.adım 9.adım 14.adım x:2 17.adım x:4\n",
    "        raised = x ** n # 15.adım raised:4\n",
    "        return raised# 16.adım 18.adım\n",
    "\n",
    "    return inner # 5.adım 10.adım\n",
    "\n",
    "\n",
    "square = raise_val(2)# 1.adım 6.adım\n",
    "cube = raise_val(3)# 7.adım 11.adım\n",
    "print(square(2), cube(4))# 12.adım 16.adım 19.adım"
   ]
  },
  {
   "cell_type": "code",
   "execution_count": 8,
   "id": "991d1513",
   "metadata": {},
   "outputs": [
    {
     "name": "stdout",
     "output_type": "stream",
     "text": [
      "('a!!!', 'b!!!', 'c!!!')\n"
     ]
    }
   ],
   "source": [
    "# Define three_shouts\n",
    "def three_shouts(word1, word2, word3):\n",
    "    \"\"\"Returns a tuple of strings\n",
    "    concatenated with '!!!'.\"\"\"\n",
    "\n",
    "    # Define inner\n",
    "    def inner(word):\n",
    "        \"\"\"Returns a string concatenated with '!!!'.\"\"\"\n",
    "        return word + '!!!'\n",
    "\n",
    "    # Return a tuple of strings\n",
    "    return (inner(word1), inner(word2), inner(word3))\n",
    "\n",
    "# Call three_shouts() and print\n",
    "print(three_shouts('a', 'b', 'c'))"
   ]
  },
  {
   "cell_type": "code",
   "execution_count": 9,
   "id": "a2a9028f",
   "metadata": {},
   "outputs": [
    {
     "name": "stdout",
     "output_type": "stream",
     "text": [
      "hellohello\n"
     ]
    }
   ],
   "source": [
    "# Define echo\n",
    "def echo(n): # 1 ,3 n:2\n",
    "    \"\"\"Return the inner_echo function.\"\"\"\n",
    "\n",
    "    # Define inner_echo\n",
    "    def inner_echo(word1): #4,8 word1:hello\n",
    "        \"\"\"Concatenate n copies of word1.\"\"\"\n",
    "        echo_word = word1 * n # 9\n",
    "        return echo_word # 10\n",
    "\n",
    "    # Return inner_echo\n",
    "    return inner_echo #5\n",
    "\n",
    "# Call echo: twice\n",
    "twice = echo(2) #2,6\n",
    "\n",
    "\n",
    "\n",
    "# Call twice() and thrice() then print\n",
    "print(twice('hello')) # 7,11"
   ]
  },
  {
   "cell_type": "code",
   "execution_count": 10,
   "id": "242fb368",
   "metadata": {},
   "outputs": [
    {
     "name": "stdout",
     "output_type": "stream",
     "text": [
      "hellohello hellohellohello\n"
     ]
    }
   ],
   "source": [
    "# Define echo\n",
    "def echo(n): # 2.adım n:2 7.adım n:3 10.adım n=2 için \n",
    "    \"\"\"Return the inner_echo function.\"\"\"\n",
    "\n",
    "    # Define inner_echo\n",
    "    def inner_echo(word1): #3.adım 8.adım 11.adım word1:hello 14.adım word1:hello\n",
    "        \"\"\"Concatenate n copies of word1.\"\"\"\n",
    "        echo_word = word1 * n # 12.adım echo_word=hellohello 15.adım:\"hellohellohello\n",
    "        return echo_word # 13.adım 16.adım\n",
    "\n",
    "    # Return inner_echo\n",
    "    return inner_echo #4.adım 9.adım\n",
    "\n",
    "# Call echo: twice\n",
    "twice = echo(2) #1.adım 5.adım\n",
    "\n",
    "# Call echo: thrice\n",
    "thrice=echo(3) #6.adım\n",
    "\n",
    "# Call twice() and thrice() then print\n",
    "print(twice('hello'), thrice('hello')) # 10.adım 17.adım"
   ]
  },
  {
   "cell_type": "code",
   "execution_count": 11,
   "id": "8849ceda",
   "metadata": {},
   "outputs": [
    {
     "name": "stdout",
     "output_type": "stream",
     "text": [
      "5 + 2 = 7\n",
      "5 - 2 = 3\n"
     ]
    }
   ],
   "source": [
    "def create_math_function(func_name): #1,3\n",
    "    if func_name == 'add': #3\n",
    "        def add(a, b): #4,7\n",
    "            return a + b #8\n",
    "\n",
    "        return add #5\n",
    "    elif func_name == 'subtract': #\n",
    "        # Define the subtract() function\n",
    "        def subtract(a, b): #\n",
    "            return a - b #\n",
    "\n",
    "        return subtract #\n",
    "    else: #\n",
    "        print(\"I don't know that one\") #\n",
    "\n",
    "\n",
    "add = create_math_function('add') #2\n",
    "print('5 + 2 = {}'.format(add(5, 2))) #6,9\n",
    "\n",
    "subtract = create_math_function('subtract') #\n",
    "print('5 - 2 = {}'.format(subtract(5, 2))) #"
   ]
  },
  {
   "cell_type": "markdown",
   "id": "9d234e8b",
   "metadata": {},
   "source": [
    "# Closures"
   ]
  },
  {
   "cell_type": "code",
   "execution_count": 12,
   "id": "762e2b1b",
   "metadata": {},
   "outputs": [
    {
     "data": {
      "text/plain": [
       "7"
      ]
     },
     "execution_count": 12,
     "metadata": {},
     "output_type": "execute_result"
    }
   ],
   "source": [
    "def foo():\n",
    "    a=5\n",
    "    def bar():\n",
    "        y=2\n",
    "        return a+y\n",
    "    return bar()\n",
    " \n",
    "foo()"
   ]
  },
  {
   "cell_type": "code",
   "execution_count": 13,
   "id": "6339509b",
   "metadata": {},
   "outputs": [
    {
     "data": {
      "text/plain": [
       "<function __main__.foo.<locals>.bar()>"
      ]
     },
     "execution_count": 13,
     "metadata": {},
     "output_type": "execute_result"
    }
   ],
   "source": [
    "def foo():\n",
    "    a=5\n",
    "    def bar():\n",
    "        \n",
    "        print(a)\n",
    "        \n",
    "    return bar\n",
    "foo()"
   ]
  },
  {
   "cell_type": "code",
   "execution_count": 14,
   "id": "4fcd6c9e",
   "metadata": {},
   "outputs": [
    {
     "name": "stdout",
     "output_type": "stream",
     "text": [
      "5\n"
     ]
    }
   ],
   "source": [
    "def foo():\n",
    "    a=5\n",
    "    def bar():\n",
    "        print(a)\n",
    "    return bar\n",
    "func=foo()\n",
    "func()"
   ]
  },
  {
   "cell_type": "code",
   "execution_count": 15,
   "id": "7ff28871",
   "metadata": {},
   "outputs": [
    {
     "data": {
      "text/plain": [
       "6"
      ]
     },
     "execution_count": 15,
     "metadata": {},
     "output_type": "execute_result"
    }
   ],
   "source": [
    "def outer_func():\n",
    "    x = 1\n",
    "    \n",
    "    def inner_func():\n",
    "        y = 5\n",
    "        return x + y\n",
    "    \n",
    "    return inner_func()\n",
    "\n",
    "outer_func()"
   ]
  },
  {
   "cell_type": "markdown",
   "id": "0007c0db",
   "metadata": {},
   "source": [
    "# Decorators"
   ]
  },
  {
   "cell_type": "code",
   "execution_count": 16,
   "id": "86e990ea",
   "metadata": {},
   "outputs": [
    {
     "name": "stdout",
     "output_type": "stream",
     "text": [
      "26\n"
     ]
    }
   ],
   "source": [
    "def add_one(func):\n",
    "    # Define wrapper(), the decorated function\n",
    "    def wrapper(x):\n",
    "        # Call the function being decorated and add one to the result\n",
    "        result = func(x) + 1\n",
    "        return result\n",
    "    return wrapper\n",
    "\n",
    "@add_one\n",
    "def square(x):\n",
    "    return x * x\n",
    "\n",
    "print(square(5)) # Output: 26\n"
   ]
  },
  {
   "cell_type": "markdown",
   "id": "09effc5d",
   "metadata": {},
   "source": [
    "Burada add_one adlı decorator fonksiyonumuz, bir fonksiyonu alır ve içinde wrapper adlı bir fonksiyon döndürür. Bu wrapper fonksiyonu, orijinal fonksiyonun sonucuna bir ek yapar. wrapper fonksiyonunun argümanı, orijinal fonksiyonun argümanıdır ve wrapper fonksiyonu add_one fonksiyonundan döndürülür.\n",
    "\n",
    "Daha sonra, @add_one ifadesi, square fonksiyonunu add_one fonksiyonu ile süsleyerek, aslında add_one(square) işlemini gerçekleştirir. square fonksiyonu artık add_one fonksiyonundan döndürülen wrapper fonksiyonudur."
   ]
  },
  {
   "cell_type": "code",
   "execution_count": 17,
   "id": "e67bb348",
   "metadata": {},
   "outputs": [],
   "source": [
    "def ekstra(fonk):  #1,4\n",
    "    def mükemmel_sayi():  #5,9\n",
    "\n",
    "        for sayi in range(2, 5):  #10 19 sayi:2\n",
    "            toplam = 0  #11,20\n",
    "            i = 1  #12,21\n",
    "\n",
    "            while (i < sayi):  #13\n",
    "                if sayi % i == 0:  #14\n",
    "                    toplam += i  #15\n",
    "                i += 1  #16\n",
    "                if toplam == sayi:  #17\n",
    "                    print(sayi)  #\n",
    "        fonk()  #\n",
    "\n",
    "    return mükemmel_sayi  #6\n",
    "\n",
    "\n",
    "@ekstra  #2\n",
    "def asal_mi():  #3,7\n",
    "\n",
    "    for sayi in range(2, 5):  #\n",
    "        i = 2  #\n",
    "        say = 0  #\n",
    "\n",
    "        while (i < sayi):  #\n",
    "            if sayi % i == 0:  #\n",
    "                say += 1  #\n",
    "            i += 1  #\n",
    "            if say == 0:  #\n",
    "                print(sayi)  #              "
   ]
  },
  {
   "cell_type": "code",
   "execution_count": 30,
   "id": "bea3b1be",
   "metadata": {},
   "outputs": [
    {
     "name": "stdout",
     "output_type": "stream",
     "text": [
      "kareleri_hesapla 0.0 saniye sürdü.\n",
      "kareleri_hesapla 0.0 saniye sürdü.\n",
      "kareleri_hesapla 0.0 saniye sürdü.\n",
      "kareleri_hesapla 0.0 saniye sürdü.\n",
      "kareleri_hesapla 0.0 saniye sürdü.\n",
      "kareleri_hesapla 0.0 saniye sürdü.\n",
      "kareleri_hesapla 0.0 saniye sürdü.\n",
      "kareleri_hesapla 0.0 saniye sürdü.\n",
      "kareleri_hesapla 0.0 saniye sürdü.\n",
      "kareleri_hesapla 0.0 saniye sürdü.\n",
      "küpleri_hesapla 0.0 saniye sürdü.\n",
      "küpleri_hesapla 0.0 saniye sürdü.\n",
      "küpleri_hesapla 0.0 saniye sürdü.\n",
      "küpleri_hesapla 0.0 saniye sürdü.\n",
      "küpleri_hesapla 0.0 saniye sürdü.\n",
      "küpleri_hesapla 0.0 saniye sürdü.\n",
      "küpleri_hesapla 0.0 saniye sürdü.\n",
      "küpleri_hesapla 0.0 saniye sürdü.\n",
      "küpleri_hesapla 0.0 saniye sürdü.\n",
      "küpleri_hesapla 0.0 saniye sürdü.\n"
     ]
    },
    {
     "data": {
      "text/plain": [
       "[0, 1, 8, 27, 64, 125, 216, 343, 512, 729]"
      ]
     },
     "execution_count": 30,
     "metadata": {},
     "output_type": "execute_result"
    }
   ],
   "source": [
    "#decorator\n",
    "import time\n",
    "\n",
    "\n",
    "def zaman_hesapla(func): #1 #4\n",
    "    def wrapper(sayılar): #5\n",
    "        baslama = time.time()\n",
    "\n",
    "        sonuç = func(sayılar)\n",
    "\n",
    "        bitis = time.time()\n",
    "\n",
    "        print(func.__name__ + \" \" + str(bitis - baslama) + \" saniye sürdü.\")\n",
    "        return sonuç\n",
    "\n",
    "    return wrapper #6\n",
    "\n",
    "\n",
    "@zaman_hesapla #2\n",
    "def kareleri_hesapla(sayılar): #3 ,7\n",
    "    sonuç = list()\n",
    "\n",
    "    for i in sayılar:\n",
    "        sonuç.append(i ** 2)\n",
    "\n",
    "    return sonuç\n",
    "\n",
    "\n",
    "@zaman_hesapla\n",
    "def küpleri_hesapla(sayılar):\n",
    "    sonuç = list()\n",
    "\n",
    "    for i in sayılar:\n",
    "        sonuç.append(i ** 3)\n",
    "\n",
    "    return sonuç\n",
    "\n",
    "\n",
    "kareleri_hesapla(range(10))\n",
    "küpleri_hesapla(range(10))"
   ]
  },
  {
   "cell_type": "markdown",
   "id": "a157b482",
   "metadata": {},
   "source": [
    "**Dönüş türünü yazdırma**\n",
    "\n",
    "\n",
    "Arkadaşlarınızla birlikte üzerinde çalıştığınız bir paketi hata ayıklıyorsunuz. Verilen bir fonksiyondan dönen verilerde tuhaf bir şeyler olduğunu fark ettiniz, ancak hangi fonksiyonun soruna neden olduğunu bile bilmiyorsunuz. Bazen, bir fonksiyondan bir şey döndürmesini beklediğinizde, farklı bir şey döndürmesi durumunda kodunuzda hatalar oluşabilir. Örneğin, bir numpy dizisi döndürmesini beklediğiniz bir fonksiyondan liste döndürmesi durumunda beklenmeyen sonuçlar alabilirsiniz. Bu sorunun neden olduğundan emin olmak için, herhangi bir fonksiyon çağrısından dönen değişkenin türünü yazdıran print_return_type() adlı bir dekoratör yazmaya karar verdiniz."
   ]
  },
  {
   "cell_type": "code",
   "execution_count": 19,
   "id": "71ab7722",
   "metadata": {},
   "outputs": [
    {
     "name": "stdout",
     "output_type": "stream",
     "text": [
      "foo() returned type <class 'int'>\n",
      "42\n",
      "foo() returned type <class 'list'>\n",
      "[1, 2, 3]\n",
      "foo() returned type <class 'dict'>\n",
      "{'a': 42}\n"
     ]
    }
   ],
   "source": [
    "def print_return_type(func):\n",
    "  # Define wrapper(), the decorated function\n",
    "  def wrapper(*args, **kwargs):\n",
    "    # Call the function being decorated\n",
    "    result = func(*args, **kwargs)\n",
    "    print('{}() returned type {}'.format(\n",
    "      func.__name__, type(result)\n",
    "    ))\n",
    "    return result\n",
    "  # Return the decorated function\n",
    "  return wrapper\n",
    "  \n",
    "@print_return_type\n",
    "def foo(value):\n",
    "  return value\n",
    "  \n",
    "print(foo(42))\n",
    "print(foo([1, 2, 3]))\n",
    "print(foo({'a': 42}))"
   ]
  },
  {
   "cell_type": "markdown",
   "id": "6f0321c6",
   "metadata": {},
   "source": [
    "**Sayaç**\n",
    "\n",
    "Yeni bir web uygulaması üzerinde çalışıyorsun ve içindeki her bir fonksiyonun kaç kez çağrıldığını merak ediyorsun. Bu nedenle, süsleyiciler kullanarak her süslenen fonksiyona bir sayaç ekleyen bir süsleyici yazmaya karar verirsin. Bu bilgiyi gelecekte, uygulama tarafından artık kullanılmayan kod bölümlerini belirlemek için kullanabilirsin."
   ]
  },
  {
   "cell_type": "code",
   "execution_count": 20,
   "id": "b3b524f0",
   "metadata": {},
   "outputs": [
    {
     "name": "stdout",
     "output_type": "stream",
     "text": [
      "calling foo()\n",
      "calling foo()\n",
      "foo() was called 2 times.\n"
     ]
    }
   ],
   "source": [
    "def counter(func):\n",
    "  def wrapper(*args, **kwargs):\n",
    "    wrapper.count += 1\n",
    "    # Call the function being decorated and return the result\n",
    "    return func(*args, **kwargs)\n",
    "  wrapper.count = 0\n",
    "  # Return the new decorated function\n",
    "  return wrapper\n",
    "\n",
    "# Decorate foo() with the counter() decorator\n",
    "@counter\n",
    "def foo():\n",
    "  print('calling foo()')\n",
    "  \n",
    "foo()\n",
    "foo()\n",
    "\n",
    "print('foo() was called {} times.'.format(foo.count))"
   ]
  },
  {
   "cell_type": "markdown",
   "id": "8e44634e",
   "metadata": {},
   "source": [
    "**Decorators and Metadata**"
   ]
  },
  {
   "cell_type": "markdown",
   "id": "c82fbbe5",
   "metadata": {},
   "source": [
    "\n",
    "**Fonksiyonları dekore etmek için docstring'leri koruma**\n",
    "\n",
    "Arkadaşınız size bir sorunla geldi. Kendi üzerinde çalıştığı açık kaynaklı kütüphaneye bazı şık dekoratörler ekledi. Ancak, bazı testler çalıştırdı ve tüm docstring'lerin dekore edilmiş fonksiyonlardan gizemli bir şekilde kaybolduğunu keşfetti. Arkadaşınıza, dekoratörler yazarken docstring'leri ve diğer meta verileri korumanın nasıl yapılacağını gösterin."
   ]
  },
  {
   "cell_type": "code",
   "execution_count": 21,
   "id": "3f55ed8e",
   "metadata": {},
   "outputs": [
    {
     "name": "stdout",
     "output_type": "stream",
     "text": [
      "Hello\n",
      "30\n",
      "Print 'hello' and then call the decorated function.\n"
     ]
    }
   ],
   "source": [
    "def add_hello(func):\n",
    "  # Add a docstring to wrapper\n",
    "  def wrapper(*args, **kwargs):\n",
    "    \"\"\"Print 'hello' and then call the decorated function.\"\"\"\n",
    "    print('Hello')\n",
    "    return func(*args, **kwargs)\n",
    "  return wrapper\n",
    "\n",
    "@add_hello\n",
    "def print_sum(a, b):\n",
    "  \"\"\"Adds two numbers and prints the sum\"\"\"\n",
    "  print(a + b)\n",
    "  \n",
    "print_sum(10, 20)\n",
    "print_sum_docstring = print_sum.__doc__\n",
    "print(print_sum_docstring)"
   ]
  },
  {
   "cell_type": "code",
   "execution_count": 22,
   "id": "d1f9656a",
   "metadata": {},
   "outputs": [
    {
     "name": "stdout",
     "output_type": "stream",
     "text": [
      "Hello\n",
      "30\n",
      "Adds two numbers and prints the sum\n"
     ]
    }
   ],
   "source": [
    "from functools import wraps\n",
    "\n",
    "def add_hello(func):\n",
    "  # Decorate wrapper() so that it keeps func()'s metadata\n",
    "  @wraps(func)\n",
    "  def wrapper(*args, **kwargs):\n",
    "    \"\"\"Print 'hello' and then call the decorated function.\"\"\"\n",
    "    print('Hello')\n",
    "    return func(*args, **kwargs)\n",
    "  return wrapper\n",
    "  \n",
    "@add_hello\n",
    "def print_sum(a, b):\n",
    "  \"\"\"Adds two numbers and prints the sum\"\"\"\n",
    "  print(a + b)\n",
    "  \n",
    "print_sum(10, 20)\n",
    "print_sum_docstring = print_sum.__doc__\n",
    "print(print_sum_docstring)"
   ]
  },
  {
   "cell_type": "markdown",
   "id": "4b19dabf",
   "metadata": {},
   "source": [
    "**Süsleyici (decorator) fazlalığını ölçme**\n",
    "\n",
    "\n",
    "Patronunuz, check_everything() adında bir süsleyici yazdı ve bu süsleyiciyi harika olduğunu düşünüyor ve işlevinizi süslemek için ısrar ediyor. Ancak, bu süsleyiciyi işlevlerinize uyguladığınızda, işlevleri çok daha yavaş çalıştırdığını fark ettiniz. Süsleyicinin işlevinize çok fazla işlem süresi eklediğini patronunuza ikna etmeniz gerekiyor. Bunun için, süslü fonksiyonun çalıştırılması için ne kadar zaman harcadığını ölçecek ve süslenmemiş fonksiyonun çalıştırılması için ne kadar zaman harcanacağını karşılaştıracaksınız. İşte bu süsleyici:"
   ]
  },
  {
   "cell_type": "code",
   "execution_count": 23,
   "id": "8748cad6",
   "metadata": {},
   "outputs": [],
   "source": [
    "def check_everything(func):\n",
    "  @wraps(func)\n",
    "  def wrapper(*args, **kwargs):\n",
    "    check_inputs(*args, **kwargs)\n",
    "    result = func(*args, **kwargs)\n",
    "    check_outputs(result)\n",
    "    return result\n",
    "  return wrapper"
   ]
  },
  {
   "cell_type": "code",
   "execution_count": null,
   "id": "50c64969",
   "metadata": {},
   "outputs": [],
   "source": [
    "@check_everything\n",
    "def duplicate(my_list):\n",
    "  \"\"\"Return a new list that repeats the input twice\"\"\"\n",
    "  return my_list + my_list\n",
    "\n",
    "t_start = time.time()\n",
    "duplicated_list = duplicate(list(range(50)))\n",
    "t_end = time.time()\n",
    "decorated_time = t_end - t_start\n",
    "\n",
    "t_start = time.time()\n",
    "# Call the original function instead of the decorated one\n",
    "duplicated_list = duplicate.__wrapped__(list(range(50)))\n",
    "t_end = time.time()\n",
    "undecorated_time = t_end - t_start\n",
    "\n",
    "print('Decorated time: {:.5f}s'.format(decorated_time))\n",
    "print('Undecorated time: {:.5f}s'.format(undecorated_time))"
   ]
  },
  {
   "cell_type": "markdown",
   "id": "8eba3a94",
   "metadata": {},
   "source": [
    "**Decorator that take arguments**"
   ]
  },
  {
   "cell_type": "code",
   "execution_count": 25,
   "id": "43a9ebfd",
   "metadata": {},
   "outputs": [],
   "source": [
    "def run_n_times(n):\n",
    "  \"\"\"Define and return a decorator\"\"\"\n",
    "  def decorator(func):\n",
    "    def wrapper(*args, **kwargs):\n",
    "      for i in range(n):\n",
    "        func(*args, **kwargs)\n",
    "    return wrapper\n",
    "  return decorator"
   ]
  },
  {
   "cell_type": "code",
   "execution_count": 26,
   "id": "10dba7bc",
   "metadata": {},
   "outputs": [
    {
     "name": "stdout",
     "output_type": "stream",
     "text": [
      "35\n",
      "35\n",
      "35\n",
      "35\n",
      "35\n",
      "35\n",
      "35\n",
      "35\n",
      "35\n",
      "35\n"
     ]
    }
   ],
   "source": [
    "@run_n_times(10)\n",
    "def print_sum(a, b):\n",
    "  print(a + b)\n",
    "  \n",
    "print_sum(15, 20)"
   ]
  },
  {
   "cell_type": "code",
   "execution_count": 27,
   "id": "5bdd185d",
   "metadata": {},
   "outputs": [
    {
     "name": "stdout",
     "output_type": "stream",
     "text": [
      "104\n",
      "104\n",
      "104\n",
      "104\n",
      "104\n"
     ]
    }
   ],
   "source": [
    "# Use run_n_times() to create the run_five_times() decorator\n",
    "run_five_times = run_n_times(5)\n",
    "\n",
    "@run_five_times\n",
    "def print_sum(a, b):\n",
    "  print(a + b)\n",
    "  \n",
    "print_sum(4, 100)"
   ]
  },
  {
   "cell_type": "code",
   "execution_count": 28,
   "id": "563fa3f2",
   "metadata": {
    "scrolled": true
   },
   "outputs": [
    {
     "name": "stdout",
     "output_type": "stream",
     "text": [
      "What is happening?!?!\n",
      "What is happening?!?!\n",
      "What is happening?!?!\n",
      "What is happening?!?!\n",
      "What is happening?!?!\n",
      "What is happening?!?!\n",
      "What is happening?!?!\n",
      "What is happening?!?!\n",
      "What is happening?!?!\n",
      "What is happening?!?!\n"
     ]
    }
   ],
   "source": [
    "# Modify the print() function to always run 20 times\n",
    "print = run_n_times(10)(print)\n",
    "\n",
    "print('What is happening?!?!')"
   ]
  }
 ],
 "metadata": {
  "kernelspec": {
   "display_name": "Python 3 (ipykernel)",
   "language": "python",
   "name": "python3"
  },
  "language_info": {
   "codemirror_mode": {
    "name": "ipython",
    "version": 3
   },
   "file_extension": ".py",
   "mimetype": "text/x-python",
   "name": "python",
   "nbconvert_exporter": "python",
   "pygments_lexer": "ipython3",
   "version": "3.9.13"
  }
 },
 "nbformat": 4,
 "nbformat_minor": 5
}
