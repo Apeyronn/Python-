{
 "cells": [
  {
   "cell_type": "code",
   "execution_count": 1,
   "id": "0d4e5edb",
   "metadata": {},
   "outputs": [
    {
     "name": "stdout",
     "output_type": "stream",
     "text": [
      "[1, 2, 3, 4, 5]\n"
     ]
    }
   ],
   "source": [
    "liste1 = [1,2,3,4,5]\n",
    "\n",
    "liste2 = list() # veya liste2 = [] ikisi de boş liste oluşturur.\n",
    "\n",
    "\n",
    "for i in liste1:\n",
    "    liste2.append(i) # liste2 'ye liste1 in elemanları for döngüsü yardımıyla atıyoruz.\n",
    "    \n",
    "print(liste2)"
   ]
  },
  {
   "cell_type": "code",
   "execution_count": 2,
   "id": "a1ac8c63",
   "metadata": {},
   "outputs": [
    {
     "name": "stdout",
     "output_type": "stream",
     "text": [
      "[2, 12, 30]\n"
     ]
    }
   ],
   "source": [
    "liste1 = [(1,2),(3,4),(5,6)] \n",
    "\n",
    "liste2= [i*j for (i,j) in liste1]\n",
    "\n",
    "print(liste2)\n"
   ]
  },
  {
   "cell_type": "markdown",
   "id": "2f760694",
   "metadata": {},
   "source": [
    "Liste: Bir veya daha fazla verinin bir arada saklandığı, verilerin sırasına göre düzenlenmiş bir veri yapısıdır. Listeler, verilerinin türlerine bakılmaksızın her tür veri içerebilir. Örneğin, bir listede aynı anda sayılar, metinler ve nesneler de yer alabilir. Listeler, Python dilinde [ ] işaretleri arasına yazılarak oluşturulur. Örneğin:"
   ]
  },
  {
   "cell_type": "code",
   "execution_count": 3,
   "id": "0e895db4",
   "metadata": {},
   "outputs": [
    {
     "data": {
      "text/plain": [
       "list"
      ]
     },
     "execution_count": 3,
     "metadata": {},
     "output_type": "execute_result"
    }
   ],
   "source": [
    "liste = [1, 2, 3, 4, 5]\n",
    "liste2 = [\"Merhaba\", \"Dünya!\", 1, 2, 3]\n",
    "\n",
    "type(liste)"
   ]
  },
  {
   "cell_type": "markdown",
   "id": "872d2304",
   "metadata": {},
   "source": [
    "Dizi: Bir veya daha fazla verinin bir arada saklandığı, verilerin aynı türde olması zorunlu olan bir veri yapısıdır. Diziler, sadece bir veri türü içerebilirler. Örneğin, bir dizi sadece sayılar içerebilir veya sadece metinler içerebilir. Diziler, Python dilinde array modülünün array() fonksiyonu ile oluşturulur. Örneğin:"
   ]
  },
  {
   "cell_type": "code",
   "execution_count": 4,
   "id": "874b6ec9",
   "metadata": {},
   "outputs": [
    {
     "data": {
      "text/plain": [
       "array('i', [7, 2, 3, 4, 5])"
      ]
     },
     "execution_count": 4,
     "metadata": {},
     "output_type": "execute_result"
    }
   ],
   "source": [
    "import array\n",
    "\n",
    "dizi = array.array(\"i\", [7, 2, 3, 4, 5])  # i: signed integer (tamsayı) veri türü\n",
    "dizi2 = array.array(\"f\", [1.0, 2.5, 3.14, 4.2, 5.9])  # f: float (ondalıklı sayı) veri türü\n",
    "type(dizi)\n",
    "dizi\n",
    "\n"
   ]
  },
  {
   "cell_type": "code",
   "execution_count": 5,
   "id": "1ace5252",
   "metadata": {},
   "outputs": [
    {
     "name": "stdout",
     "output_type": "stream",
     "text": [
      "<class 'list'>\n",
      "<class 'set'>\n",
      "<class 'tuple'>\n"
     ]
    }
   ],
   "source": [
    "liste1=[0,1,2,3,4,5]\n",
    "liste2={0,1,2,3,4,5}\n",
    "liste3=(0,1,2,3,4,5)\n",
    "for i in [liste1, liste2, liste3]:\n",
    "    print(type(i))"
   ]
  },
  {
   "cell_type": "markdown",
   "id": "64e14473",
   "metadata": {},
   "source": [
    "list()\n",
    "fonksiyonu Python dilinde kullanılan bir fonksiyondur ve bir veri yapısı oluşturmak için kullanılır. Bu fonksiyon ile boş bir liste oluşturulabilir veya verilen bir iterable (örneğin, bir string, bir tuple veya başka bir liste) üzerinden yeni bir liste oluşturulabilir.\n"
   ]
  },
  {
   "cell_type": "code",
   "execution_count": 6,
   "id": "d19619eb",
   "metadata": {},
   "outputs": [
    {
     "data": {
      "text/plain": [
       "['m', 'e', 'r', 'h', 'a', 'b', 'a']"
      ]
     },
     "execution_count": 6,
     "metadata": {},
     "output_type": "execute_result"
    }
   ],
   "source": [
    "metin = \"merhaba\"\n",
    "\n",
    "metin_listesi= list(metin)\n",
    "\n",
    "metin_listesi"
   ]
  },
  {
   "cell_type": "code",
   "execution_count": 8,
   "id": "89576ba4",
   "metadata": {},
   "outputs": [
    {
     "name": "stdout",
     "output_type": "stream",
     "text": [
      "<class 'dict'>\n",
      "B\n",
      "C\n",
      "A\n",
      "D\n"
     ]
    }
   ],
   "source": [
    "##### sözlük\n",
    "###öğrenciler sözlüğü\n",
    "\n",
    "ogrenciler = {\n",
    "    \"Ahmet\": \"B\",\n",
    "    \"Mehmet\": \"C\",\n",
    "    \"Ayşe\": \"A\",\n",
    "    \"Fatma\": \"D\"\n",
    "}\n",
    "print(type(ogrenciler))\n",
    "for i in ogrenciler:\n",
    "    print(ogrenciler[i])\n",
    " \n",
    "    "
   ]
  },
  {
   "cell_type": "code",
   "execution_count": 8,
   "id": "469e4c06",
   "metadata": {},
   "outputs": [
    {
     "name": "stdout",
     "output_type": "stream",
     "text": [
      "[('bir', 1), ('iki', 2), ('üç', 3), ('dört', 4)]\n"
     ]
    }
   ],
   "source": [
    "sözlük = {\"bir\":1,\"iki\":2,\"üç\":3,\"dört\":4}\n",
    "liste2= list()\n",
    "\n",
    "for key in sözlük.items():\n",
    "    liste2.append(key)\n",
    "print(liste2)\n"
   ]
  },
  {
   "cell_type": "code",
   "execution_count": 14,
   "id": "7b1f2c79",
   "metadata": {},
   "outputs": [
    {
     "name": "stdout",
     "output_type": "stream",
     "text": [
      "1\n",
      "Anahtar: a, Değer: 1\n",
      "2\n",
      "Anahtar: b, Değer: 2\n",
      "3\n",
      "Anahtar: c, Değer: 3\n"
     ]
    }
   ],
   "source": [
    "# Öncelikle bir sözlük oluşturalım\n",
    "sozluk = {'a': 1, 'b': 2, 'c': 3}\n",
    "\n",
    "# Daha sonra for döngüsü kullanarak bu sözlük üzerinde gezinme işlemini gerçekleştirelim\n",
    "for anahtar in sozluk: \n",
    "  print(sozluk[anahtar])\n",
    "  print(f'Anahtar: {anahtar}, Değer: {sozluk[anahtar]}')\n",
    "\n",
    "# Bu kod çalıştırıldığında, ekrana aşağıdaki şekilde çıktı verilecektir:\n",
    "# Anahtar: a, Değer: 1\n",
    "# Anahtar: b, Değer: 2\n",
    "# Anahtar: c, Değer: 3"
   ]
  },
  {
   "cell_type": "code",
   "execution_count": 10,
   "id": "63716733",
   "metadata": {},
   "outputs": [
    {
     "name": "stdout",
     "output_type": "stream",
     "text": [
      "sayı giriniz:5\n",
      "{'kare': 25, 'küp': 125, 'karekök': 2.23606797749979}\n"
     ]
    }
   ],
   "source": [
    "def sayi_isle(sayi):\n",
    "    sonuc=dict()\n",
    "    sonuc[\"kare\"]=sayi**2\n",
    "    sonuc[\"küp\"]=sayi**3\n",
    "    sonuc[\"karekök\"]=sayi**0.5\n",
    "    \n",
    "    return sonuc\n",
    "sayi=int(input(\"sayı giriniz:\"))\n",
    "print(sayi_isle(sayi))#{'kare': 25, 'küp': 125, 'karekök': 2.23606797749979}2    #1.soru"
   ]
  },
  {
   "cell_type": "code",
   "execution_count": 24,
   "id": "3ce00a01",
   "metadata": {},
   "outputs": [
    {
     "name": "stdout",
     "output_type": "stream",
     "text": [
      "sayı gır5\n",
      "{'kare': 25, 'küp': 125, 'karekök': 2.23606797749979}\n"
     ]
    }
   ],
   "source": [
    "def sayi_isle(sayi):\n",
    "    sonuc={}\n",
    "  \n",
    "    sonuc[\"kare\"]=sayı**2\n",
    "    sonuc[\"küp\"]=sayı**3\n",
    "    sonuc[\"karekök\"]=sayı**0.5\n",
    "    \n",
    "    return sonuc\n",
    "sayı= int(input(\"sayı gır\"))\n",
    "\n",
    "print(sayi_isle(sayi))\n"
   ]
  },
  {
   "cell_type": "code",
   "execution_count": 45,
   "id": "c1763ed7",
   "metadata": {},
   "outputs": [
    {
     "name": "stdout",
     "output_type": "stream",
     "text": [
      "**********************\n",
      "1 x 1 = 1\n",
      "1 x 2 = 2\n",
      "1 x 3 = 3\n",
      "1 x 4 = 4\n",
      "1 x 5 = 5\n",
      "1 x 6 = 6\n",
      "1 x 7 = 7\n",
      "1 x 8 = 8\n",
      "1 x 9 = 9\n",
      "1 x 10 = 10\n",
      "**********************\n",
      "2 x 1 = 2\n",
      "2 x 2 = 4\n",
      "2 x 3 = 6\n",
      "2 x 4 = 8\n",
      "2 x 5 = 10\n",
      "2 x 6 = 12\n",
      "2 x 7 = 14\n",
      "2 x 8 = 16\n",
      "2 x 9 = 18\n",
      "2 x 10 = 20\n",
      "**********************\n",
      "3 x 1 = 3\n",
      "3 x 2 = 6\n",
      "3 x 3 = 9\n",
      "3 x 4 = 12\n",
      "3 x 5 = 15\n",
      "3 x 6 = 18\n",
      "3 x 7 = 21\n",
      "3 x 8 = 24\n",
      "3 x 9 = 27\n",
      "3 x 10 = 30\n",
      "**********************\n",
      "4 x 1 = 4\n",
      "4 x 2 = 8\n",
      "4 x 3 = 12\n",
      "4 x 4 = 16\n",
      "4 x 5 = 20\n",
      "4 x 6 = 24\n",
      "4 x 7 = 28\n",
      "4 x 8 = 32\n",
      "4 x 9 = 36\n",
      "4 x 10 = 40\n",
      "**********************\n",
      "5 x 1 = 5\n",
      "5 x 2 = 10\n",
      "5 x 3 = 15\n",
      "5 x 4 = 20\n",
      "5 x 5 = 25\n",
      "5 x 6 = 30\n",
      "5 x 7 = 35\n",
      "5 x 8 = 40\n",
      "5 x 9 = 45\n",
      "5 x 10 = 50\n",
      "**********************\n",
      "6 x 1 = 6\n",
      "6 x 2 = 12\n",
      "6 x 3 = 18\n",
      "6 x 4 = 24\n",
      "6 x 5 = 30\n",
      "6 x 6 = 36\n",
      "6 x 7 = 42\n",
      "6 x 8 = 48\n",
      "6 x 9 = 54\n",
      "6 x 10 = 60\n",
      "**********************\n",
      "7 x 1 = 7\n",
      "7 x 2 = 14\n",
      "7 x 3 = 21\n",
      "7 x 4 = 28\n",
      "7 x 5 = 35\n",
      "7 x 6 = 42\n",
      "7 x 7 = 49\n",
      "7 x 8 = 56\n",
      "7 x 9 = 63\n",
      "7 x 10 = 70\n",
      "**********************\n",
      "8 x 1 = 8\n",
      "8 x 2 = 16\n",
      "8 x 3 = 24\n",
      "8 x 4 = 32\n",
      "8 x 5 = 40\n",
      "8 x 6 = 48\n",
      "8 x 7 = 56\n",
      "8 x 8 = 64\n",
      "8 x 9 = 72\n",
      "8 x 10 = 80\n",
      "**********************\n",
      "9 x 1 = 9\n",
      "9 x 2 = 18\n",
      "9 x 3 = 27\n",
      "9 x 4 = 36\n",
      "9 x 5 = 45\n",
      "9 x 6 = 54\n",
      "9 x 7 = 63\n",
      "9 x 8 = 72\n",
      "9 x 9 = 81\n",
      "9 x 10 = 90\n",
      "**********************\n",
      "10 x 1 = 10\n",
      "10 x 2 = 20\n",
      "10 x 3 = 30\n",
      "10 x 4 = 40\n",
      "10 x 5 = 50\n",
      "10 x 6 = 60\n",
      "10 x 7 = 70\n",
      "10 x 8 = 80\n",
      "10 x 9 = 90\n",
      "10 x 10 = 100\n"
     ]
    }
   ],
   "source": [
    "for i in range(1,11):\n",
    "    print(\"**********************\")\n",
    "    for j in range(1,11):\n",
    "        print(i,\"x\",j,\"=\",i*j)\n",
    "    "
   ]
  },
  {
   "cell_type": "markdown",
   "id": "2b13b20d",
   "metadata": {},
   "source": [
    "# Foknksiyonlar"
   ]
  },
  {
   "cell_type": "code",
   "execution_count": 69,
   "id": "f47713be",
   "metadata": {},
   "outputs": [
    {
     "name": "stdout",
     "output_type": "stream",
     "text": [
      "25\n"
     ]
    }
   ],
   "source": [
    "def square(value):\n",
    "    new_value=value**2\n",
    "    print(new_value)\n",
    "square(5)    \n",
    "    "
   ]
  },
  {
   "cell_type": "code",
   "execution_count": 80,
   "id": "703f43a2",
   "metadata": {},
   "outputs": [
    {
     "name": "stdout",
     "output_type": "stream",
     "text": [
      "7\n",
      "49\n"
     ]
    }
   ],
   "source": [
    "def square(value):\n",
    "    new_value=value**2\n",
    "    return new_value\n",
    "num = square(int(input()))\n",
    "print(num)"
   ]
  },
  {
   "cell_type": "code",
   "execution_count": 1,
   "id": "21c3594f",
   "metadata": {},
   "outputs": [
    {
     "name": "stdout",
     "output_type": "stream",
     "text": [
      "congratulations!!!you!!!\n"
     ]
    }
   ],
   "source": [
    "# Define shout with parameters word1 and word2\n",
    "def shout(word1, word2):\n",
    "    \"\"\"Concatenate strings with three exclamation marks\"\"\"\n",
    "    # Concatenate word1 with '!!!': shout1\n",
    "    shout1= word1 +\"!!!\"\n",
    "    \n",
    "    # Concatenate word2 with '!!!': shout2\n",
    "    shout2= word2+\"!!!\"\n",
    "    \n",
    "    # Concatenate shout1 with shout2: new_shout\n",
    "    new_shout=shout1+shout2\n",
    "\n",
    "    # Return new_shout\n",
    "    return new_shout\n",
    "\n",
    "# Pass 'congratulations' and 'you' to shout(): yell\n",
    "yell=(shout(\"congratulations\",\"you\"))\n",
    "\n",
    "# Print yell\n",
    "print(yell)"
   ]
  },
  {
   "cell_type": "code",
   "execution_count": 2,
   "id": "51014367",
   "metadata": {},
   "outputs": [
    {
     "name": "stdout",
     "output_type": "stream",
     "text": [
      "congratulations!!!\n",
      "you!!!\n"
     ]
    }
   ],
   "source": [
    "# Define shout_all with parameters word1 and word2\n",
    "def shout_all(word1,word2):\n",
    "    \n",
    "    # Concatenate word1 with '!!!': shout1\n",
    "    shout1=word1+\"!!!\"\n",
    "    \n",
    "    # Concatenate word2 with '!!!': shout2\n",
    "    shout2=word2+\"!!!\"\n",
    "    \n",
    "    # Construct a tuple with shout1 and shout2: shout_words\n",
    "    shout_words=(shout1,shout2)\n",
    "\n",
    "    # Return shout_words\n",
    "    return shout_words\n",
    "\n",
    "# Pass 'congratulations' and 'you' to shout_all(): yell1, yell2\n",
    "yell1,yell2=(shout_all(\"congratulations\",\"you\"))\n",
    "\n",
    "# Print yell1 and yell2\n",
    "print(yell1)\n",
    "print(yell2)"
   ]
  },
  {
   "cell_type": "markdown",
   "id": "99c818be",
   "metadata": {},
   "source": [
    "Liste ve tuple veri yapıları arasındaki farklar şunlardır:\n",
    "\n",
    "Değiştirilebilirlik: Listeler, değerleri değiştirilebilir (mutable) iken, tuplar değiştirilemez (immutable).\n",
    "\n",
    "Eleman ekleme/çıkarma: Listelerde eleman ekleme ve çıkarma işlemleri yapılabilir iken, tuplarda bu işlemler yapılamaz.\n",
    "\n",
    "Performans: Tuplar, listelerden daha hızlıdır çünkü değerlerin değiştirilmesi gerektiğinde tüm veri yapısının tekrar oluşturulması gerekmez.\n",
    "\n",
    "Kullanım amaçları: Listeler, verilerin sıralı olarak saklanması ve değiştirilmesi gerektiğinde kullanılır. Tuplar ise verilerin değiştirilmesine gerek olmayan durumlarda kullanılır.\n",
    "\n",
    "Örnek:"
   ]
  },
  {
   "cell_type": "code",
   "execution_count": 3,
   "id": "132c35d8",
   "metadata": {
    "scrolled": false
   },
   "outputs": [
    {
     "name": "stdout",
     "output_type": "stream",
     "text": [
      "['Bursa', 'İstanbul', 'İzmir', 'Antalya']\n"
     ]
    },
    {
     "ename": "TypeError",
     "evalue": "'tuple' object does not support item assignment",
     "output_type": "error",
     "traceback": [
      "\u001b[1;31m---------------------------------------------------------------------------\u001b[0m",
      "\u001b[1;31mTypeError\u001b[0m                                 Traceback (most recent call last)",
      "\u001b[1;32m~\\AppData\\Local\\Temp\\ipykernel_13360\\2914022364.py\u001b[0m in \u001b[0;36m<module>\u001b[1;34m\u001b[0m\n\u001b[0;32m     10\u001b[0m \u001b[1;33m\u001b[0m\u001b[0m\n\u001b[0;32m     11\u001b[0m \u001b[1;31m# tuple içindeki değerleri değiştirme (olmaz)\u001b[0m\u001b[1;33m\u001b[0m\u001b[1;33m\u001b[0m\u001b[0m\n\u001b[1;32m---> 12\u001b[1;33m \u001b[0msehirler\u001b[0m\u001b[1;33m[\u001b[0m\u001b[1;36m0\u001b[0m\u001b[1;33m]\u001b[0m \u001b[1;33m=\u001b[0m \u001b[1;34m\"Bursa\"\u001b[0m\u001b[1;33m\u001b[0m\u001b[1;33m\u001b[0m\u001b[0m\n\u001b[0m\u001b[0;32m     13\u001b[0m \u001b[1;31m# TypeError: 'tuple' object does not support item assignment\u001b[0m\u001b[1;33m\u001b[0m\u001b[1;33m\u001b[0m\u001b[0m\n",
      "\u001b[1;31mTypeError\u001b[0m: 'tuple' object does not support item assignment"
     ]
    }
   ],
   "source": [
    "# bir liste oluşturma\n",
    "sehirler = [\"Ankara\", \"İstanbul\", \"İzmir\", \"Antalya\"]\n",
    "\n",
    "# liste içindeki değerleri değiştirme\n",
    "sehirler[0] = \"Bursa\"\n",
    "print(sehirler) # [\"Bursa\", \"İstanbul\", \"İzmir\", \"Antalya\"]\n",
    "\n",
    "# bir tuple oluşturma\n",
    "sehirler = (\"Ankara\", \"İstanbul\", \"İzmir\", \"Antalya\")\n",
    "\n",
    "# tuple içindeki değerleri değiştirme (olmaz)\n",
    "sehirler[0] = \"Bursa\" \n",
    "# TypeError: 'tuple' object does not support item assignment\n",
    "#deiğitirlirse hata alınır"
   ]
  },
  {
   "cell_type": "code",
   "execution_count": 1,
   "id": "f85dcda9",
   "metadata": {},
   "outputs": [
    {
     "name": "stdout",
     "output_type": "stream",
     "text": [
      "bir sayı giriniz:80\n"
     ]
    },
    {
     "data": {
      "image/png": "[encoded data removed]",
      "text/plain": [
       "<Figure size 640x480 with 1 Axes>"
      ]
     },
     "metadata": {},
     "output_type": "display_data"
    }
   ],
   "source": [
    "import random\n",
    "import matplotlib.pyplot as plt\n",
    "\n",
    "# n adet para atma işlemi\n",
    "n = int(input(\"bir sayı giriniz:\"))\n",
    "results = []\n",
    "for i in range(n):\n",
    "    result = random.choice(['heads', 'tails'])\n",
    "    results.append(result)\n",
    "\n",
    "# yazı ve tura sayısını hesaplama\n",
    "heads_count = results.count('heads')\n",
    "tails_count = results.count('tails')\n",
    "\n",
    "# görselleştirme\n",
    "labels = 'Heads', 'Tails'\n",
    "sizes = [heads_count, tails_count]\n",
    "plt.pie(sizes, labels=labels, autopct='%1.1f%%', shadow=True)\n",
    "plt.axis('equal')\n",
    "plt.show()                                              #4.soru"
   ]
  },
  {
   "cell_type": "markdown",
   "id": "a0dc257f",
   "metadata": {},
   "source": [
    "## NESTED FUNCTİONS"
   ]
  },
  {
   "cell_type": "code",
   "execution_count": 4,
   "id": "c1153f57",
   "metadata": {},
   "outputs": [
    {
     "name": "stdout",
     "output_type": "stream",
     "text": [
      "hellohello hellohellohello\n"
     ]
    }
   ],
   "source": [
    "# Define echo\n",
    "def echo(n):\n",
    "    \"\"\"Return the inner_echo function.\"\"\"\n",
    "\n",
    "    # Define inner_echo\n",
    "    def inner_echo(word1):\n",
    "        \"\"\"Concatenate n copies of word1.\"\"\"\n",
    "        echo_word = word1 * n\n",
    "        return echo_word\n",
    "\n",
    "    # Return inner_echo\n",
    "    return inner_echo\n",
    "\n",
    "# Call echo: twice\n",
    "twice = echo(2)\n",
    "\n",
    "# Call echo: thrice\n",
    "thrice = echo(3)\n",
    "\n",
    "# Call twice() and thrice() then print\n",
    "print(twice('hello'), thrice('hello'))"
   ]
  },
  {
   "cell_type": "markdown",
   "id": "63126b3b",
   "metadata": {},
   "source": []
  },
  {
   "cell_type": "code",
   "execution_count": 7,
   "id": "7e84939e",
   "metadata": {},
   "outputs": [
    {
     "name": "stdout",
     "output_type": "stream",
     "text": [
      "4 64\n"
     ]
    }
   ],
   "source": [
    "def raise_val(n):\n",
    "    def inner(x):\n",
    "        raised= x**n\n",
    "        return raised\n",
    "    return inner\n",
    "square = raise_val(2)\n",
    "cube=raise_val(3)\n",
    "print(square(2),cube(4))\n",
    "    "
   ]
  },
  {
   "cell_type": "code",
   "execution_count": 8,
   "id": "2f11130b",
   "metadata": {},
   "outputs": [
    {
     "name": "stdout",
     "output_type": "stream",
     "text": [
      "15\n"
     ]
    }
   ],
   "source": [
    "def fonksiyon_1(x):\n",
    "    def fonksiyon_2(y):\n",
    "        return y + x\n",
    "    return fonksiyon_2\n",
    "\n",
    "sonuc = fonksiyon_1(10)\n",
    "print(sonuc(5)) # 15\n"
   ]
  },
  {
   "cell_type": "code",
   "execution_count": 10,
   "id": "1a76799d",
   "metadata": {},
   "outputs": [
    {
     "name": "stdout",
     "output_type": "stream",
     "text": [
      "120\n"
     ]
    }
   ],
   "source": [
    "def faktoriyel(sayı):\n",
    "  sonuc = 1\n",
    "  for i in range(2, sayı+1):\n",
    "    sonuc *= i\n",
    "  return sonuc\n",
    "\n",
    "# Örnek kullanım\n",
    "print(faktoriyel(5))"
   ]
  },
  {
   "cell_type": "code",
   "execution_count": 12,
   "id": "9192f6e7",
   "metadata": {},
   "outputs": [
    {
     "name": "stdout",
     "output_type": "stream",
     "text": [
      "False\n"
     ]
    }
   ],
   "source": [
    "def asal_mi(sayi):\n",
    "  if sayi < 2:\n",
    "    return False\n",
    "  for i in range(2, sayi):\n",
    "    if sayi % i == 0:\n",
    "      return False\n",
    "  return True #burdan true yi kaldırrak döngü none dönüyor\n",
    "\n",
    "print(asal_mi(4)) # False"
   ]
  },
  {
   "cell_type": "code",
   "execution_count": 10,
   "id": "f6c37381",
   "metadata": {},
   "outputs": [
    {
     "name": "stdout",
     "output_type": "stream",
     "text": [
      " bir Armstrong sayisidir\n"
     ]
    }
   ],
   "source": [
    "def armstrong(sayi):\n",
    "    toplam = 0\n",
    "    sayi_str = str(sayi)\n",
    "    uzunluk = len(sayi_str)\n",
    "\n",
    "    for rakam in sayi_str:\n",
    "        toplam += int(rakam) ** uzunluk\n",
    "\n",
    "    return toplam == sayi\n",
    "\n",
    "# 153 değeri armstrong() fonksiyonuna parametre olarak verilerek çağırılır\n",
    "if armstrong(153):\n",
    "    print(\" bir Armstrong sayisidir\")\n",
    "else:\n",
    "    print(\" bir Armstrong sayisi degildir\")"
   ]
  },
  {
   "cell_type": "code",
   "execution_count": 11,
   "id": "6ba56f12",
   "metadata": {},
   "outputs": [
    {
     "name": "stdout",
     "output_type": "stream",
     "text": [
      "(5, 1)\n"
     ]
    }
   ],
   "source": [
    "def en_buyuk_ve_kucuk(dizi):\n",
    "    \n",
    "    en_buyuk = dizi[0]\n",
    "    en_kucuk = dizi[0]\n",
    "  \n",
    "    for sayi in dizi:\n",
    "        if sayi > en_buyuk:\n",
    "            en_buyuk = sayi\n",
    "        elif sayi < en_kucuk:\n",
    "            en_kucuk = sayi\n",
    "    return en_buyuk, en_kucuk\n",
    "\n",
    "print(en_buyuk_ve_kucuk([1, 2, 3, 4, 5]))\n"
   ]
  },
  {
   "cell_type": "code",
   "execution_count": 25,
   "id": "055ca211",
   "metadata": {},
   "outputs": [],
   "source": [
    "\n"
   ]
  },
  {
   "cell_type": "code",
   "execution_count": 16,
   "id": "3bcd1c91",
   "metadata": {},
   "outputs": [
    {
     "name": "stdout",
     "output_type": "stream",
     "text": [
      "(5, 1)\n",
      "(10, -5)\n"
     ]
    }
   ],
   "source": [
    "def en_buyuk_ve_kucuk(dizi):\n",
    "    \n",
    "    en_buyuk = dizi[0]\n",
    "    en_kucuk = dizi[0]\n",
    "  \n",
    "    for sayi in dizi:\n",
    "        if sayi > en_buyuk:\n",
    "            en_buyuk = sayi\n",
    "        elif sayi < en_kucuk:\n",
    "            en_kucuk = sayi\n",
    "    return en_buyuk, en_kucuk\n",
    "\n",
    "print(en_buyuk_ve_kucuk([1, 2, 3, 4, 5]))  # (5, 1)\n",
    "print(en_buyuk_ve_kucuk([-1, -5, 0, 3, 10]))  # (10, -5)\n",
    "\n"
   ]
  },
  {
   "cell_type": "code",
   "execution_count": 18,
   "id": "ac916554",
   "metadata": {},
   "outputs": [
    {
     "name": "stdout",
     "output_type": "stream",
     "text": [
      "[1, 'erdem', 3, 'erdem', 5]\n"
     ]
    }
   ],
   "source": [
    "numbers = [1, 2, 3, 4, 5]\n",
    "\n",
    "for i in range(len(numbers)):\n",
    "  if numbers[i] % 2 == 0:\n",
    "    numbers[i] = \"erdem\"\n",
    "\n",
    "print(numbers)  # Output: [1, \"x\", 3, \"x\", 5]  #9.soru"
   ]
  },
  {
   "cell_type": "code",
   "execution_count": null,
   "id": "5295148a",
   "metadata": {},
   "outputs": [
    {
     "name": "stdout",
     "output_type": "stream",
     "text": [
      "1. sayıyı gir: 5\n",
      "2. sayıyı gir: 3\n",
      "4.0\n",
      "1. sayıyı gir: 8\n",
      "2. sayıyı gir: 2\n",
      "5.0\n",
      "1. sayıyı gir: 7\n",
      "2. sayıyı gir: 5\n",
      "6.0\n"
     ]
    }
   ],
   "source": [
    "def ortalama(sayı1, sayı2):\n",
    "    sonuc = (sayı1 + sayı2) / 2\n",
    "    print(sonuc)\n",
    "\n",
    "while True:\n",
    "    sayı1 = int(input(\"1. sayıyı gir: \"))\n",
    "    sayı2 = int(input(\"2. sayıyı gir: \"))\n",
    "    ortalama(sayı1, sayı2)"
   ]
  },
  {
   "cell_type": "code",
   "execution_count": 1,
   "id": "05b04a09",
   "metadata": {},
   "outputs": [
    {
     "name": "stdout",
     "output_type": "stream",
     "text": [
      "birşeyler yazınız:errefm\n",
      "{'e': 2, 'r': 2, 'f': 1, 'm': 1}\n"
     ]
    }
   ],
   "source": [
    "def karakter_frekansı(metin):\n",
    "    frekans={}\n",
    "\n",
    "    for karakter in metin:\n",
    "        if karakter in frekans:\n",
    "            frekans[karakter]+=1\n",
    "        else:\n",
    "            frekans[karakter]=1\n",
    "\n",
    "    return frekans\n",
    "metin= (input(\"birşeyler yazınız:\"))\n",
    "\n",
    "print(karakter_frekansı(metin))"
   ]
  },
  {
   "cell_type": "code",
   "execution_count": 2,
   "id": "30d0e881",
   "metadata": {},
   "outputs": [
    {
     "name": "stdout",
     "output_type": "stream",
     "text": [
      "değer1\n",
      "değer2\n"
     ]
    }
   ],
   "source": [
    "sozluk = {\n",
    "    \"anahtar1\": \"değer1\",\n",
    "    \"anahtar2\": \"değer2\",\n",
    "    \"anahtar3\": \"değer3\"\n",
    "}\n",
    "print(sozluk[\"anahtar1\"])  # \"değer1\"\n",
    "print(sozluk[\"anahtar2\"])  # \"değer2\""
   ]
  },
  {
   "cell_type": "code",
   "execution_count": 3,
   "id": "1609a387",
   "metadata": {},
   "outputs": [
    {
     "name": "stdout",
     "output_type": "stream",
     "text": [
      "sayı giriniz:4\n",
      "{'kare': 16, 'küp': 64, 'karekök': 2.0}\n"
     ]
    }
   ],
   "source": [
    "def sayi_isle(sayi):\n",
    "    sonuc=dict()\n",
    "    sonuc[\"kare\"]=sayi**2\n",
    "    sonuc[\"küp\"]=sayi**3\n",
    "    sonuc[\"karekök\"]=sayi**0.5\n",
    "    \n",
    "    return sonuc\n",
    "sayi=int(input(\"sayı giriniz:\"))\n",
    "print(sayi_isle(sayi))"
   ]
  },
  {
   "cell_type": "code",
   "execution_count": 21,
   "id": "fbae275b",
   "metadata": {},
   "outputs": [
    {
     "name": "stdout",
     "output_type": "stream",
     "text": [
      "[{'mean': 4, 'variance': 5}, {'mean': 4, 'variance': 5}]\n"
     ]
    }
   ],
   "source": [
    "temp_list = []\n",
    "functions = {'mean': 4, 'variance': 5}\n",
    "for i in functions:\n",
    "    temp_list.append(functions[i])\n",
    "    \n",
    "print(temp_list)"
   ]
  },
  {
   "cell_type": "code",
   "execution_count": 23,
   "id": "7f823e65",
   "metadata": {},
   "outputs": [
    {
     "data": {
      "text/plain": [
       "{'mean': [[3.0, 4.0, 5.0], [1.0, 4.0, 7.0], 4.0],\n",
       " 'variance': [[6.0, 6.0, 6.0],\n",
       "  [0.6666666666666666, 0.6666666666666666, 0.6666666666666666],\n",
       "  6.666666666666667],\n",
       " 'standard deviation': [[2.449489742783178,\n",
       "   2.449489742783178,\n",
       "   2.449489742783178],\n",
       "  [0.816496580927726, 0.816496580927726, 0.816496580927726],\n",
       "  2.581988897471611],\n",
       " 'max': [[6, 7, 8], [2, 5, 8], 8],\n",
       " 'min': [[0, 1, 2], [0, 3, 6], 0],\n",
       " 'sum': [[9, 12, 15], [3, 12, 21], 36]}"
      ]
     },
     "execution_count": 23,
     "metadata": {},
     "output_type": "execute_result"
    }
   ],
   "source": [
    "import numpy as np\n",
    "def calculate(list):    \n",
    "    if(len(list)!=9):\n",
    "        raise ValueError(\"List must contain nine numbers.\")\n",
    "    calculations = dict()\n",
    "    tempList = []\n",
    "    reshapedList = np.reshape(list, (3,3)).tolist()\n",
    "    functions = {'mean': np.mean, 'variance': np.var, 'standard deviation': np.std,\n",
    "                 'max': np.max, 'min': np.min, 'sum': np.sum}\n",
    "    for key in functions:\n",
    "        tempList.append(functions[key](reshapedList, axis = 0).tolist()) \n",
    "        tempList.append(functions[key](reshapedList, axis = 1).tolist())\n",
    "        tempList.append(functions[key](list).tolist())\n",
    "        calculations[key] = tempList\n",
    "        tempList = []\n",
    "\n",
    "    return calculations\n",
    "calculate([0,1,2,\n",
    "           3,4,5,\n",
    "           6,7,8])\n"
   ]
  },
  {
   "cell_type": "code",
   "execution_count": 25,
   "id": "605778de",
   "metadata": {},
   "outputs": [
    {
     "name": "stdout",
     "output_type": "stream",
     "text": [
      "1\n",
      "2\n",
      "Fizz\n",
      "4\n",
      "Buzz\n",
      "Fizz\n",
      "7\n",
      "8\n",
      "Fizz\n",
      "Buzz\n",
      "11\n",
      "Fizz\n",
      "13\n",
      "14\n",
      "FizzBuzz\n",
      "16\n",
      "17\n",
      "Fizz\n",
      "19\n",
      "Buzz\n",
      "Fizz\n",
      "22\n",
      "23\n",
      "Fizz\n",
      "Buzz\n",
      "26\n",
      "Fizz\n",
      "28\n",
      "29\n",
      "FizzBuzz\n",
      "31\n",
      "32\n",
      "Fizz\n",
      "34\n",
      "Buzz\n",
      "Fizz\n",
      "37\n",
      "38\n",
      "Fizz\n",
      "Buzz\n",
      "41\n",
      "Fizz\n",
      "43\n",
      "44\n",
      "FizzBuzz\n",
      "46\n",
      "47\n",
      "Fizz\n",
      "49\n",
      "Buzz\n",
      "Fizz\n",
      "52\n",
      "53\n",
      "Fizz\n",
      "Buzz\n",
      "56\n",
      "Fizz\n",
      "58\n",
      "59\n",
      "FizzBuzz\n",
      "61\n",
      "62\n",
      "Fizz\n",
      "64\n",
      "Buzz\n",
      "Fizz\n",
      "67\n",
      "68\n",
      "Fizz\n",
      "Buzz\n",
      "71\n",
      "Fizz\n",
      "73\n",
      "74\n",
      "FizzBuzz\n",
      "76\n",
      "77\n",
      "Fizz\n",
      "79\n",
      "Buzz\n",
      "Fizz\n",
      "82\n",
      "83\n",
      "Fizz\n",
      "Buzz\n",
      "86\n",
      "Fizz\n",
      "88\n",
      "89\n",
      "FizzBuzz\n",
      "91\n",
      "92\n",
      "Fizz\n",
      "94\n",
      "Buzz\n",
      "Fizz\n",
      "97\n",
      "98\n",
      "Fizz\n",
      "Buzz\n"
     ]
    }
   ],
   "source": [
    "def fizzbuzz(n):\n",
    "    for i in range(1, n+1):\n",
    "        if i % 3 == 0 and i % 5 == 0:\n",
    "            print(\"FizzBuzz\")\n",
    "        elif i % 3 == 0:\n",
    "            print(\"Fizz\")\n",
    "        elif i % 5 == 0:\n",
    "            print(\"Buzz\")\n",
    "        else:\n",
    "            print(i)\n",
    "\n",
    "n = 100\n",
    "fizzbuzz(n)\n"
   ]
  },
  {
   "cell_type": "code",
   "execution_count": 49,
   "id": "2a60b2c8",
   "metadata": {},
   "outputs": [
    {
     "name": "stdout",
     "output_type": "stream",
     "text": [
      "456klmnopqrs\n"
     ]
    }
   ],
   "source": [
    "\n",
    "def missingCharacters(s):\n",
    "    l=[0]*123\n",
    "    result=\"\"\n",
    "    for i in range(len(s)):\n",
    "        x=ord(s[i])\n",
    "        l[x]+=1\n",
    "    for i in range(48,58):\n",
    "        if(l[i]==0):\n",
    "            result+=chr(i)\n",
    "    for i in range(97,123):\n",
    "        if(l[i]==0):\n",
    "            result+=chr(i)\n",
    "    return result\n",
    "\n",
    "s = 'abcdefghijtuvwxyz0123789'\n",
    "print(missingCharacters(s))\n",
    "                                                                     # 14.soru"
   ]
  },
  {
   "cell_type": "code",
   "execution_count": 52,
   "id": "bc474bf5",
   "metadata": {},
   "outputs": [
    {
     "name": "stdout",
     "output_type": "stream",
     "text": [
      "BLUe MOon\n"
     ]
    }
   ],
   "source": [
    "def transformSentence(sentence):\n",
    "    l=sentence.split()\n",
    "    \n",
    "    li=[]\n",
    "    st=\"\"\n",
    "    for i in l:\n",
    "        st+=i[0]\n",
    "        for j in range(0,len(i)-1):\n",
    "            if(i[j].lower()<i[j+1].lower()):\n",
    "                st+=(i[j+1].upper())\n",
    "            elif(i[j].lower()>i[j+1].lower()):\n",
    "                st+=(i[j+1].lower())\n",
    "            else:\n",
    "                st+=i[j+1]\n",
    "        li.append(st)\n",
    "        st=\"\"\n",
    "    result=\"\"\n",
    "    \n",
    "    for i in li:\n",
    "        result=result+\" \"+i\n",
    "    return (result.strip())\n",
    "sentence= \"Blue Moon\"\n",
    "print(transformSentence(sentence))"
   ]
  },
  {
   "cell_type": "code",
   "execution_count": 85,
   "id": "b61e345e",
   "metadata": {},
   "outputs": [
    {
     "name": "stdout",
     "output_type": "stream",
     "text": [
      "2\n"
     ]
    }
   ],
   "source": [
    "\n",
    "def numCells(grid):\n",
    "    # Write your code here\n",
    "    res = 0\n",
    "    for i in range(len(grid)):\n",
    "        for k in range (len(grid[0])):\n",
    "            val = grid[i][k]\n",
    "            flag = 1\n",
    "            for ii in range (max(0,i-1),min(len(grid),i+2)):\n",
    "                for kk in range(max(0,k-1),min(len(grid[0]),k+2)):\n",
    "                    if (ii,kk)!=(i,k) and val<= grid[ii][kk] :\n",
    "                         flag=0\n",
    "                         break \n",
    "                if flag == 0:\n",
    "                     break\n",
    "            else:\n",
    "                res+=1\n",
    "    return res\n",
    "res = [[8, 5, 3], [4, 5, 6], [7, 8, 9]]\n",
    "\n",
    "print(numCells(res))"
   ]
  },
  {
   "cell_type": "code",
   "execution_count": 67,
   "id": "d8141a36",
   "metadata": {},
   "outputs": [
    {
     "name": "stdout",
     "output_type": "stream",
     "text": [
      "Area of rectangle: 200\n",
      "Area of circle: 78.53981633974483\n"
     ]
    }
   ],
   "source": [
    "import math\n",
    "\n",
    "class Rectangle:\n",
    "    def __init__(self,breadth,length):\n",
    "        self.breadth=breadth\n",
    "        self.length=length\n",
    "    def area(self):\n",
    "        return self.breadth*self.length\n",
    "\n",
    "class Circle:\n",
    "    def __init__(self,radius):\n",
    "        self.radius=radius\n",
    "    def area(self):\n",
    "        return math.pi*(self.radius**2)\n",
    "\n",
    "rect = Rectangle(10, 20)\n",
    "print(\"Area of rectangle:\", rect.area())\n",
    "\n",
    "circle = Circle(5)\n",
    "print(\"Area of circle:\", circle.area())\n",
    "\n"
   ]
  },
  {
   "cell_type": "code",
   "execution_count": 24,
   "id": "705e94de",
   "metadata": {},
   "outputs": [
    {
     "name": "stdout",
     "output_type": "stream",
     "text": [
      "3.0\n"
     ]
    }
   ],
   "source": [
    "def avg(*num):\n",
    "    if len(num)==0:\n",
    "        return None\n",
    "    sum=0\n",
    "    for i in num:\n",
    "        sum=sum+i\n",
    "        moy=sum/len(num)\n",
    "    return(moy)\n",
    "\n",
    "\n",
    "print(avg(1,2,3,4,5))\n",
    "\n"
   ]
  },
  {
   "cell_type": "code",
   "execution_count": 77,
   "id": "93dd9496",
   "metadata": {},
   "outputs": [
    {
     "name": "stdout",
     "output_type": "stream",
     "text": [
      "Car with the maximum speed of 120 km/h\n"
     ]
    }
   ],
   "source": [
    "class Car:\n",
    "    def __init__(self, max_speed, unit):\n",
    "        self.max_speed = max_speed\n",
    "        self.unit = unit\n",
    "\n",
    "    def __str__(self):\n",
    "        return 'Car with the maximum speed of ' + str(self.max_speed) + ' ' + str(self.unit)\n",
    "\n",
    "\n",
    "class Boat:\n",
    "    def __init__(self, max_speed):\n",
    "        self.max_speed = max_speed\n",
    "\n",
    "    def __str__(self):\n",
    "        return 'Boat with the maximum speed of ' + str(self.max_speed) + ' knots'\n",
    "\n",
    "\n",
    "car = Car(120, 'km/h')\n",
    "print(car)"
   ]
  },
  {
   "cell_type": "code",
   "execution_count": 79,
   "id": "32c12f99",
   "metadata": {},
   "outputs": [
    {
     "name": "stdout",
     "output_type": "stream",
     "text": [
      "Stemm is the process of reduc words to their base or root form\n"
     ]
    }
   ],
   "source": [
    "def stemmer(text):\n",
    "    text = text.split()\n",
    "    stemmed_text = []\n",
    "    for word in text:\n",
    "        if word.endswith('ed') or word.endswith('ly') or word.endswith('ing'):\n",
    "            if word.endswith('ed'):\n",
    "                word = word[:-2]\n",
    "            elif word.endswith('ly'):\n",
    "                word = word[:-2]\n",
    "            elif word.endswith('ing'):\n",
    "                word = word[:-3]\n",
    "        if len(word) > 8:\n",
    "            word = word[:8]\n",
    "        stemmed_text.append(word)\n",
    "    return ' '.join(stemmed_text)\n",
    "\n",
    "text = \"Stemming is the process of reducing words to their base or root form\"\n",
    "print(stemmer(text))\n"
   ]
  },
  {
   "cell_type": "code",
   "execution_count": 1,
   "id": "24f78380",
   "metadata": {},
   "outputs": [
    {
     "name": "stdout",
     "output_type": "stream",
     "text": [
      "[6, 0, 2]\n"
     ]
    }
   ],
   "source": [
    "def getTotalExecutionTime(n, logs):\n",
    "    exclusive_times = [0] * n\n",
    "    function_stack = []\n",
    "    running_time = 0\n",
    "\n",
    "    for log in logs:\n",
    "        function_id, action, timestamp = log.split(':')\n",
    "        function_id = int(function_id)\n",
    "        timestamp = int(timestamp)\n",
    "\n",
    "        if action == \"start\":\n",
    "            if function_stack:\n",
    "                exclusive_times[function_stack[-1]] += timestamp - running_time\n",
    "            function_stack.append(function_id)\n",
    "            running_time = timestamp\n",
    "        else:\n",
    "            exclusive_times[function_stack.pop()] += timestamp - running_time + 1\n",
    "            running_time = timestamp + 1\n",
    "\n",
    "    return exclusive_times\n",
    "\n",
    "n = 3\n",
    "logs = [\"0:start:0\", \"2:start:4\", \"2:end:5\", \"1:end:7\"]\n",
    "print(getTotalExecutionTime(n, logs))\n"
   ]
  },
  {
   "cell_type": "code",
   "execution_count": null,
   "id": "a75fbc64",
   "metadata": {},
   "outputs": [],
   "source": []
  },
  {
   "cell_type": "code",
   "execution_count": null,
   "id": "fe502f8c",
   "metadata": {},
   "outputs": [],
   "source": [
    "        "
   ]
  },
  {
   "cell_type": "code",
   "execution_count": null,
   "id": "0bd7d8cd",
   "metadata": {},
   "outputs": [],
   "source": []
  },
  {
   "cell_type": "code",
   "execution_count": null,
   "id": "ec0a805a",
   "metadata": {
    "scrolled": true
   },
   "outputs": [],
   "source": []
  },
  {
   "cell_type": "code",
   "execution_count": null,
   "id": "89c9b2a9",
   "metadata": {},
   "outputs": [],
   "source": [
    "\n",
    "            "
   ]
  },
  {
   "cell_type": "code",
   "execution_count": null,
   "id": "d4e61e7d",
   "metadata": {},
   "outputs": [],
   "source": []
  },
  {
   "cell_type": "code",
   "execution_count": null,
   "id": "073955f1",
   "metadata": {},
   "outputs": [],
   "source": []
  },
  {
   "cell_type": "code",
   "execution_count": null,
   "id": "8ab5b430",
   "metadata": {},
   "outputs": [],
   "source": []
  },
  {
   "cell_type": "code",
   "execution_count": null,
   "id": "0d89b48f",
   "metadata": {},
   "outputs": [],
   "source": []
  },
  {
   "cell_type": "code",
   "execution_count": null,
   "id": "8865a674",
   "metadata": {},
   "outputs": [],
   "source": []
  }
 ],
 "metadata": {
  "kernelspec": {
   "display_name": "Python 3 (ipykernel)",
   "language": "python",
   "name": "python3"
  },
  "language_info": {
   "codemirror_mode": {
    "name": "ipython",
    "version": 3
   },
   "file_extension": ".py",
   "mimetype": "text/x-python",
   "name": "python",
   "nbconvert_exporter": "python",
   "pygments_lexer": "ipython3",
   "version": "3.9.13"
  }
 },
 "nbformat": 4,
 "nbformat_minor": 5
}
