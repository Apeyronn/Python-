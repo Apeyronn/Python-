{
 "cells": [
  {
   "cell_type": "markdown",
   "id": "55b2cb6b",
   "metadata": {},
   "source": [
    "**1-Kullanıcıdan 10 adet sayı alın ve alınan notları ve bu notların ortalamasını ekrana yazdırın**"
   ]
  },
  {
   "cell_type": "code",
   "execution_count": null,
   "id": "2f14b7a1",
   "metadata": {},
   "outputs": [],
   "source": []
  },
  {
   "cell_type": "markdown",
   "id": "d6231147",
   "metadata": {},
   "source": [
    "**Bir listenin içindeki çift sayıları string bir ifadeyle değiştiren kod**"
   ]
  },
  {
   "cell_type": "code",
   "execution_count": null,
   "id": "d259fbb5",
   "metadata": {},
   "outputs": [],
   "source": [
    "        "
   ]
  },
  {
   "cell_type": "markdown",
   "id": "a2da8e1d",
   "metadata": {},
   "source": [
    "**Girilen iki sayının ortalamsını bulan fonksiyon**"
   ]
  },
  {
   "cell_type": "code",
   "execution_count": null,
   "id": "a7b49724",
   "metadata": {},
   "outputs": [],
   "source": []
  },
  {
   "cell_type": "markdown",
   "id": "3e56c2a6",
   "metadata": {},
   "source": [
    "**2-Tek parametreli bir fonksiyon oluştur ve bu fonksiyon\n",
    "girilen sayının karesini,küpünü ve karekökünü hesaplayıp bir sözlük içinde göstersin.**"
   ]
  },
  {
   "cell_type": "code",
   "execution_count": null,
   "id": "4b698e52",
   "metadata": {},
   "outputs": [],
   "source": []
  },
  {
   "cell_type": "markdown",
   "id": "4229a4c3",
   "metadata": {},
   "source": [
    "**3-Burada iç içe geçmiş 4 adet liste var.liste = [[1, 2, 3], [4, 5, 6], [7, 8, 9], [10, 11, 12]] Bu listenin bütün öğelerini tek bir listeye nasıl alabiliriz? Yani şöyle bir çıktıyı nasıl elde ederiz?**\n",
    "[1, 2, 3, 4, 5, 6, 7, 8, 9, 10, 11, 12]"
   ]
  },
  {
   "cell_type": "code",
   "execution_count": null,
   "id": "4cf27baf",
   "metadata": {},
   "outputs": [],
   "source": []
  },
  {
   "cell_type": "markdown",
   "id": "033c0385",
   "metadata": {},
   "source": [
    "**Girilen Sayının Faktoriyelini bulan fonksiyon**"
   ]
  },
  {
   "cell_type": "code",
   "execution_count": null,
   "id": "1ab98ed2",
   "metadata": {},
   "outputs": [],
   "source": []
  },
  {
   "cell_type": "markdown",
   "id": "3f7ebf80",
   "metadata": {},
   "source": [
    "**Girilen Sayının Asal olup olmadığını söyleyen fonksiyon**"
   ]
  },
  {
   "cell_type": "code",
   "execution_count": null,
   "id": "db5cd560",
   "metadata": {},
   "outputs": [],
   "source": [
    "\n",
    "        "
   ]
  },
  {
   "cell_type": "markdown",
   "id": "72d4ab5e",
   "metadata": {},
   "source": [
    "1 den n e kadar olan sayılar içerisinden rastgele 3 sayı gösteren kod"
   ]
  },
  {
   "cell_type": "code",
   "execution_count": null,
   "id": "60054bee",
   "metadata": {},
   "outputs": [],
   "source": [
    "\n"
   ]
  },
  {
   "cell_type": "markdown",
   "id": "8e3d49d3",
   "metadata": {},
   "source": [
    "**Girilen değerin armstorng sayısı olup olmadığını söyleyen fonksiyon**\n",
    "Basamaklarının küpleri toplamı kendisine eşit olan sayılara Armstrong sayı denir . 407 için = (4*4*4)+(7*7*7)=470 Bu yüzden 407 armstrong bir sayıdır."
   ]
  },
  {
   "cell_type": "code",
   "execution_count": null,
   "id": "43c2c16b",
   "metadata": {},
   "outputs": [],
   "source": []
  },
  {
   "cell_type": "markdown",
   "id": "f97da3d9",
   "metadata": {},
   "source": [
    "**Verilen Dizideki en büyük ve en küçük elemanları bulan fonksiyon**"
   ]
  },
  {
   "cell_type": "code",
   "execution_count": null,
   "id": "38e1c66b",
   "metadata": {},
   "outputs": [],
   "source": [
    "\n",
    "\n"
   ]
  },
  {
   "cell_type": "markdown",
   "id": "3c643e81",
   "metadata": {},
   "source": [
    "FizzBuzz programını Python'da yazın. Program kullanıcıdan bir sayı alacak ve 1'den n e kadar olan sayılarda şu kurallara göre işlem yapacak: Eğer sayı 3'ün katıysa \"Fizz\", 5'in katıysa \"Buzz\", hem 3'ün hem de 5'in katıysa \"FizzBuzz\" yazacak. Program ayrıca FizzBuzz, Fizz ve Buzz sayılarının listelerini ve FizzBuzz sayılarının toplamını da ekrana yazdıracak."
   ]
  },
  {
   "cell_type": "code",
   "execution_count": null,
   "id": "4bcd7047",
   "metadata": {},
   "outputs": [],
   "source": []
  },
  {
   "cell_type": "markdown",
   "id": "b3b205bd",
   "metadata": {},
   "source": [
    "**Girilen metnin içindeki harflerin kaç defa geçtiğini gösteren fonksiyon**"
   ]
  },
  {
   "cell_type": "code",
   "execution_count": null,
   "id": "f72905a7",
   "metadata": {},
   "outputs": [],
   "source": [
    "\n",
    "\n"
   ]
  },
  {
   "cell_type": "markdown",
   "id": "218c6939",
   "metadata": {},
   "source": [
    "**\"Python programlama dilinde, dokuz sayı içeren bir liste verilmiştir. Bu liste, bir fonksiyona parametre olarak gönderilerek, listedeki sayıların ortalama, varyans, standart sapma, maksimum, minimum ve toplam değerleri hesaplanmaktadır. Ayrıca, her bir istatistiksel özellik için, listenin satırları ve sütunları boyunca hesaplanmış değerler de ayrı ayrı hesaplanıp bir sözlük içinde saklanmaktadır.**\n",
    "\n",
    "**Bu işlemi gerçekleştiren Python fonksiyonunu yazınız.\"**"
   ]
  },
  {
   "cell_type": "code",
   "execution_count": null,
   "id": "b76b185d",
   "metadata": {},
   "outputs": [],
   "source": []
  },
  {
   "cell_type": "markdown",
   "id": "316162b5",
   "metadata": {},
   "source": [
    "Tabloya benzer şekilde, sırayla harfleri ötelenmiş bir şifreli mesaj verilmiştir. Verilen mesajın hangi ötelenme sayısı ile şifrelendiğini bulan bir Python fonksiyonu yazın. Örneğin, şifreli mesaj 'Jlljmlqbkkzfe' ise, ötelenme sayısı 4'tür (yani A yerine E, B yerine F, vb. kullanılmıştır). bu kurallara göre kodu yazın"
   ]
  },
  {
   "cell_type": "code",
   "execution_count": null,
   "id": "b116de91",
   "metadata": {},
   "outputs": [],
   "source": []
  },
  {
   "cell_type": "markdown",
   "id": "8cb80daa",
   "metadata": {},
   "source": [
    "**\"Verilen bir metin içindeki karakterlerin tekrar sayılarını hesaplayan bir Python fonksiyonu yazınız. Bu fonksiyon, metindeki rakam ve harf karakterlerin tekrar sayılarını hesaplayarak, metindeki bazı karakterlerin eksik olup olmadığını tespit etmelidir. Eksik karakterler, bir sonuç stringi içinde birleştirilerek geri döndürülmelidir.**\n",
    "\n",
    "**Örnek olarak, 'abcdefghijtuvwxyz0123789' metnindeki eksik karakterleri hesaplayan bir fonksiyon şu şekilde çalışabilir:**\n",
    "\n",
    "**missingCharacters('abcdefghijtuvwxyz0123789')**\n",
    "\n",
    "**Çıktı olarak, bu fonksiyon, metindeki eksik karakterleri içeren bir string döndürmelidir.\"**"
   ]
  },
  {
   "cell_type": "code",
   "execution_count": null,
   "id": "bfcb7130",
   "metadata": {},
   "outputs": [],
   "source": []
  },
  {
   "cell_type": "markdown",
   "id": "a648604e",
   "metadata": {},
   "source": [
    "**• Dizenin ilk harfi değiştirilmeden kalır\n",
    "• Her bir sonraki harf için, x, bunu önceleyen bir harf, y, düşünün:\n",
    "• Eğer y x'i İngilizce alfabesinde önceleyorsa, x'i büyük harfe dönüştürün.\n",
    "o Eğer x y'yi İngilizce alfabesinde önceleyorsa, x'i küçük harfe dönüştürün.\n",
    "X ve y eşitse, harf değişmeden kalır.**\n",
    "\n",
    "Örnek\n",
    "\n",
    "sentence = \"cOOL dog\""
   ]
  },
  {
   "cell_type": "code",
   "execution_count": null,
   "id": "5e0c3794",
   "metadata": {},
   "outputs": [],
   "source": []
  },
  {
   "cell_type": "markdown",
   "id": "0e0579da",
   "metadata": {},
   "source": [
    "Verilen bir 2D matris (grid) içinde, herhangi bir hücrenin etrafında en büyük sayı olma özelliğine sahip olduğu hücrelerin sayısını bulan bir fonksiyon yazınız. Bir hücrenin etrafındaki hücreler (komşuları) yalnızca doğrudan sağında, solunda, üstünde ve altında olan hücrelerdir (köşegenler dahil değil).\n",
    "\n",
    "Fonksiyon İmzası: def numCells(grid: List[List[int]]) -> int\n",
    "\n",
    "Örnekler:\n",
    "    numCells([[8, 5, 3], [4, 5, 6], [7, 8, 9]]) => 2\n",
    "numCells([[1, 2, 3], [4, 5, 6], [7, 8, 9]]) => 1\n",
    "numCells([[1, 4, 4], [4, 5, 6], [7, 8, 9]]) => 3\n",
    "Açıklamalar:\n",
    "\n",
    "İlk örnekte, sadece 8 ve 9'un etrafındaki hücrelerden daha büyük olduğu için 2 hücre en büyük sayı olma özelliğine sahiptir.\n",
    "İkinci örnekte, sadece 9'un etrafındaki hücrelerden daha büyük olduğu için sadece bir hücre en büyük sayı olma özelliğine sahiptir.\n",
    "Üçüncü örnekte, 5, 6 ve 9'un etrafındaki hücrelerden daha büyük olduğu için bu üç hücre en büyük sayı olma özelliğine sahiptir.\n"
   ]
  },
  {
   "cell_type": "code",
   "execution_count": null,
   "id": "7fa47135",
   "metadata": {},
   "outputs": [],
   "source": []
  },
  {
   "cell_type": "markdown",
   "id": "f23b9e94",
   "metadata": {},
   "source": [
    "Verilen string parametresini büyük harfli Upper Camel Case formatında döndüren StringChallenge(str) fonksiyonunu yazmanız gerekiyor. İlk harfi büyük olacak şekilde her kelimenin ilk harfi büyük olacak ve kelimeler birbirlerinden ayrılacak olan özel karakterlerle birleştirilecek.\n",
    "\n",
    "Örnek olarak, eğer str \"Daniel LikeS-coding\" ise programınız string \"DanielLikesCoding\" şeklinde dönmelidir.\n",
    "\n",
    "Örnekler:\n",
    "\n",
    "Girdi: \"cats AND*Dogs-are Awesome\" Çıktı: CatsAndDogsAreAwesome\n",
    "\n",
    "Girdi: \"a b c d-e-f%g\" Çıktı: ABCDEFG"
   ]
  },
  {
   "cell_type": "code",
   "execution_count": null,
   "id": "d1c8caa6",
   "metadata": {},
   "outputs": [],
   "source": []
  },
  {
   "cell_type": "markdown",
   "id": "1cf34313",
   "metadata": {},
   "source": [
    "Python dosyasında, https://co derbyte.com/api/challenges/json/list-numbers adresine GET isteği gönderen bir program yazın. Bu adres veri anahtarını içeren ve değeri bir sayı dizisi olan bir JSON yanıt döndürür. Programınız, sayı listesinin standart sapmasını (en yakın tam sayıya yuvarlanmış) hesaplamalı ve daha sonra iki büyük aykırı sayı çıkarıldıktan sonra tekrar hesaplamalıdır. Son olarak, her standart sapmayı boşlukla ayrılmış şekilde yazdırmalısınız.\n",
    "\n",
    "Örnek Girdi 1, 2, 3, 4, 5, 6, 10, 100, 200\n",
    "\n",
    "Örnek Çıktı 65 3\n",
    "\n",
    "[10, 12, 23, 23, 16, 3242342, 23, 21, 16, 45, 100, 2, 4, 6, 10, 200, 34, 1123, 12, 14, 5, 3, 66, 12, 6, 3, 1, 3, 2224234]"
   ]
  },
  {
   "cell_type": "code",
   "execution_count": null,
   "id": "77d36c17",
   "metadata": {},
   "outputs": [],
   "source": []
  },
  {
   "cell_type": "markdown",
   "id": "a25ef756",
   "metadata": {},
   "source": [
    " Fonksiyon QuestionsMarks(str), tek basamaklı sayılar, harfler ve soru işaretleri içeren str string parametresini \n",
    "alacak ve her bir çift sayının toplamının 10 olduğu her iki sayı arasında tam olarak 3 soru işareti olup olmadığını\n",
    "kontrol edecek. Eğer öyleyse, programınız \"true\" dizesini döndürmeli, aksi takdirde \"false\" dizesini döndürmelidir. \n",
    "Dizide toplamı 10 olan iki sayı yoksa, programınız da yanıt olarak \"false\" dizesini döndürmelidir.\n",
    "Örneğin: eğer str \"arrb6???4xxbl5???eee5\" ise, programınız 6 ile 4 arasında tam olarak 3 soru işareti ve dizinin \n",
    " sonundaki 5 ile 5 arasında da tam olarak 3 soru işareti olduğu için \"true\" dizesini döndürmelidir."
   ]
  },
  {
   "cell_type": "code",
   "execution_count": null,
   "id": "affafd43",
   "metadata": {},
   "outputs": [],
   "source": []
  },
  {
   "cell_type": "markdown",
   "id": "89d6b169",
   "metadata": {},
   "source": [
    "Aşağıda verilen kurallara göre bir kelime kökünden türemişse o kelimenin sonundan \"ed\", \"ly\" veya \"ing\" takılarını kaldırın. Eğer kelime 8 harften daha uzunsa ilk 8 harfini alın. Tüm kelimeleri bu şekilde değiştirilmiş haliyle birleştirin ve sonucu döndürün.\n",
    "\n",
    "Kural 1: Eğer kelime \"ed\" veya \"ly\" ile bitiyorsa, bu ekleri kelimeden kaldırın.\n",
    "Kural 2: Eğer kelime \"ing\" ile bitiyorsa, \"ing\" eki kaldırılır.\n",
    "Kural 3: Eğer kelime 8 harften daha uzunsa, ilk 8 harfini alın.\n",
    "\n",
    "Bu kurallara uygun bir Python fonksiyonu yazın:"
   ]
  },
  {
   "cell_type": "code",
   "execution_count": null,
   "id": "8a487da2",
   "metadata": {},
   "outputs": [],
   "source": []
  },
  {
   "cell_type": "markdown",
   "id": "f95e198d",
   "metadata": {},
   "source": [
    "Soru: Bir programcı, bir fonksiyon çağrısı için kaydedilen loglarla ilgili bir sorunu çözmek istiyor. Loglar bir dizi şeklinde verilmiştir ve her bir log, bir fonksiyon çağrısının başlangıcını veya bitişini temsil eden bir metindir. Başlangıç ve bitiş logları birlikte kullanıldığında, bu çağrının toplam yürütme süresini hesaplamak mümkündür. Bununla birlikte, bir çağrı sırasında başka bir çağrı çağrılabilir ve bu durumda, alt çağrının yürütme süresi, ana çağrının yürütme süresinden düşülerek hesaplanmalıdır. Verilen loglar ve toplam fonksiyon sayısı n'nin yanı sıra, her bir çağrının yürütme süresini hesaplayan bir fonksiyon yazmanız isteniyor. Fonksiyon çağrısı başlatmak için \"start\" ve durdurmak için \"end\" kullanılan bir log dizesi verilir.\n",
    "\n",
    "Örnek olarak, getTotalExecutionTime(n, logs) fonksiyonu, n = 3 ve logs = [\"0:start:0\", \"2:start:4\", \"2:end:5\", \"1:end:7\"] olarak verildiğinde, aşağıdaki çıktıyı döndürmelidir:\n",
    "[3, 2, 2]"
   ]
  },
  {
   "cell_type": "code",
   "execution_count": null,
   "id": "a61de8f0",
   "metadata": {},
   "outputs": [],
   "source": []
  }
 ],
 "metadata": {
  "kernelspec": {
   "display_name": "Python 3 (ipykernel)",
   "language": "python",
   "name": "python3"
  },
  "language_info": {
   "codemirror_mode": {
    "name": "ipython",
    "version": 3
   },
   "file_extension": ".py",
   "mimetype": "text/x-python",
   "name": "python",
   "nbconvert_exporter": "python",
   "pygments_lexer": "ipython3",
   "version": "3.9.13"
  }
 },
 "nbformat": 4,
 "nbformat_minor": 5
}
