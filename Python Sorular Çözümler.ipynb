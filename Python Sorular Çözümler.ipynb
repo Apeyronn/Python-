{
 "cells": [
  {
   "cell_type": "markdown",
   "id": "55b2cb6b",
   "metadata": {},
   "source": [
    "**Kullanıcıdan 10 adet sayı alın ve alınan notları ve bu notların ortalamasını ekrana yazdırın**"
   ]
  },
  {
   "cell_type": "code",
   "execution_count": 2,
   "id": "2f14b7a1",
   "metadata": {},
   "outputs": [
    {
     "name": "stdout",
     "output_type": "stream",
     "text": [
      "1. not: 2\n",
      "2. not: 5\n",
      "Girdiğiniz notlar:  2 5\n",
      "Not ortalamanız:  0.7\n"
     ]
    }
   ],
   "source": [
    "sayılar = 0\n",
    "notlar = []\n",
    "\n",
    "for i in range(2):\n",
    "    veri = int(input(\"{}. not: \".format(i+1)))\n",
    "    sayılar += veri\n",
    "    notlar += [veri]\n",
    "\n",
    "print(\"Girdiğiniz notlar: \", *notlar)\n",
    "print(\"Not ortalamanız: \", sayılar/10)"
   ]
  },
  {
   "cell_type": "markdown",
   "id": "d6231147",
   "metadata": {},
   "source": [
    "**Bir listenin içindeki çift sayıları string bir ifadeyle değiştiren kod**"
   ]
  },
  {
   "cell_type": "code",
   "execution_count": null,
   "id": "d259fbb5",
   "metadata": {},
   "outputs": [],
   "source": [
    "numbers = [1, 2, 3, 4, 5]\n",
    "\n",
    "for i in range(len(numbers)):\n",
    "  if numbers[i] % 2 == 0:\n",
    "    numbers[i] = \"erdem\"\n",
    "\n",
    "print(numbers)  # Output: [1, \"x\", 3, \"x\", 5]  #9.soru"
   ]
  },
  {
   "cell_type": "markdown",
   "id": "a2da8e1d",
   "metadata": {},
   "source": [
    "**Girilen iki sayının ortalamsını bulan fonksiyon**"
   ]
  },
  {
   "cell_type": "code",
   "execution_count": null,
   "id": "a7b49724",
   "metadata": {},
   "outputs": [],
   "source": [
    "def ortalama(sayı1, sayı2):\n",
    "    sonuc = (sayı1 + sayı2) / 2\n",
    "    print(sonuc)\n",
    "\n",
    "while True:\n",
    "    sayı1 = int(input(\"1. sayıyı gir: \"))\n",
    "    sayı2 = int(input(\"2. sayıyı gir: \"))\n",
    "    ortalama(sayı1, sayı2)"
   ]
  },
  {
   "cell_type": "markdown",
   "id": "3e56c2a6",
   "metadata": {},
   "source": [
    "**Tek parametreli bir fonksiyon oluştur ve bu fonksiyon\n",
    "girilen sayının karesini,küpünü ve karekökünü hesaplayıp bir sözlük içinde göstersin.**"
   ]
  },
  {
   "cell_type": "code",
   "execution_count": 1,
   "id": "4b698e52",
   "metadata": {},
   "outputs": [
    {
     "name": "stdout",
     "output_type": "stream",
     "text": [
      "sayı giriniz:5\n",
      "{'kare': 25, 'küp': 125, 'karekök': 2.23606797749979}\n"
     ]
    }
   ],
   "source": [
    "def sayi_isle(sayi):\n",
    "    sonuc=dict()\n",
    "    sonuc[\"kare\"]=sayi**2\n",
    "    sonuc[\"küp\"]=sayi**3\n",
    "    sonuc[\"karekök\"]=sayi**0.5\n",
    "    \n",
    "    return sonuc\n",
    "sayi=int(input(\"sayı giriniz:\"))\n",
    "print(sayi_isle(sayi))#{'kare': 25, 'küp': 125, 'karekök': 2.23606797749979}2    #1.soru"
   ]
  },
  {
   "cell_type": "markdown",
   "id": "4229a4c3",
   "metadata": {},
   "source": [
    "**Burada iç içe geçmiş 4 adet liste var.liste = [[1, 2, 3], [4, 5, 6], [7, 8, 9], [10, 11, 12]] Bu listenin bütün öğelerini tek bir listeye nasıl alabiliriz? Yani şöyle bir çıktıyı nasıl elde ederiz?**\n",
    "[1, 2, 3, 4, 5, 6, 7, 8, 9, 10, 11, 12]"
   ]
  },
  {
   "cell_type": "code",
   "execution_count": 3,
   "id": "4cf27baf",
   "metadata": {},
   "outputs": [
    {
     "name": "stdout",
     "output_type": "stream",
     "text": [
      "[1, 2, 3, 4, 5, 6, 7, 8, 9, 10, 11, 12]\n"
     ]
    }
   ],
   "source": [
    "tümü = []\n",
    "\n",
    "for i in liste:\n",
    "    for z in i:\n",
    "        tümü += [z]\n",
    "\n",
    "print(tümü)"
   ]
  },
  {
   "cell_type": "markdown",
   "id": "033c0385",
   "metadata": {},
   "source": [
    "**Girilen Sayının Faktoriyelini bulan fonksiyon**"
   ]
  },
  {
   "cell_type": "code",
   "execution_count": null,
   "id": "1ab98ed2",
   "metadata": {},
   "outputs": [],
   "source": [
    "def faktoriyel(sayı):\n",
    "  sonuc = 1\n",
    "  for i in range(2, sayı+1):\n",
    "    sonuc *= i\n",
    "  return sonuc\n",
    "\n",
    "# Örnek kullanım\n",
    "print(faktoriyel(5))"
   ]
  },
  {
   "cell_type": "markdown",
   "id": "3f7ebf80",
   "metadata": {},
   "source": [
    "**Girilen Sayının Asal olup olmadığını söyleyen fonksiyon**"
   ]
  },
  {
   "cell_type": "code",
   "execution_count": 10,
   "id": "db5cd560",
   "metadata": {},
   "outputs": [
    {
     "name": "stdout",
     "output_type": "stream",
     "text": [
      "False\n"
     ]
    }
   ],
   "source": [
    "def asal_mi(sayi):\n",
    "  if sayi < 2:\n",
    "    return False\n",
    "  for i in range(2, sayi):\n",
    "    if sayi % i == 0:\n",
    "      return False\n",
    "  return True #burdan true yi kaldırrak döngü none dönüyor\n",
    "\n",
    "print(asal_mi(4)) # False"
   ]
  },
  {
   "cell_type": "markdown",
   "id": "72d4ab5e",
   "metadata": {},
   "source": [
    "1 den n e kadar olan sayılar içerisinden rastgele 3 sayı gösteren kod"
   ]
  },
  {
   "cell_type": "code",
   "execution_count": 44,
   "id": "60054bee",
   "metadata": {},
   "outputs": [
    {
     "name": "stdout",
     "output_type": "stream",
     "text": [
      "Kaç sayı görmek istiyorsunuz? 5\n",
      "0\n"
     ]
    }
   ],
   "source": [
    "import random\n",
    "\n",
    "n = int(input(\"Kaç sayı görmek istiyorsunuz? \"))\n",
    "sayilar = list(range(1, n+1))\n",
    "\n",
    "for i in range(3):\n",
    "    secilen_sayi = random.choice(sayilar)\n",
    "    print(secilen_sayi)\n",
    "    sayilar.remove(secilen_sayi)\n"
   ]
  },
  {
   "cell_type": "markdown",
   "id": "8e3d49d3",
   "metadata": {},
   "source": [
    "**Girilen değerin armstorng sayısı olup olmadığını söyleyen fonksiyon**"
   ]
  },
  {
   "cell_type": "code",
   "execution_count": 11,
   "id": "43c2c16b",
   "metadata": {},
   "outputs": [
    {
     "name": "stdout",
     "output_type": "stream",
     "text": [
      " bir Armstrong sayisidir\n"
     ]
    }
   ],
   "source": [
    "def armstrong(sayi):\n",
    "    toplam = 0\n",
    "    sayi_str = str(sayi)\n",
    "    uzunluk = len(sayi_str)\n",
    "\n",
    "    for rakam in sayi_str:\n",
    "        toplam += int(rakam) ** uzunluk\n",
    "\n",
    "    return toplam == sayi\n",
    "\n",
    "# 153 değeri armstrong() fonksiyonuna parametre olarak verilerek çağırılır\n",
    "if armstrong(153):\n",
    "    print(\" bir Armstrong sayisidir\")\n",
    "else:\n",
    "    print(\" bir Armstrong sayisi degildir\")"
   ]
  },
  {
   "cell_type": "markdown",
   "id": "f97da3d9",
   "metadata": {},
   "source": [
    "**Verilen Dizideki en büyük ve en küçük elemanları bulan fonksiyon**"
   ]
  },
  {
   "cell_type": "code",
   "execution_count": 12,
   "id": "38e1c66b",
   "metadata": {},
   "outputs": [
    {
     "name": "stdout",
     "output_type": "stream",
     "text": [
      "(5, 1)\n"
     ]
    }
   ],
   "source": [
    "def en_buyuk_ve_kucuk(dizi):\n",
    "    \n",
    "    en_buyuk = dizi[0]\n",
    "    en_kucuk = dizi[0]\n",
    "  \n",
    "    for sayi in dizi:\n",
    "        if sayi > en_buyuk:\n",
    "            en_buyuk = sayi\n",
    "        elif sayi < en_kucuk:\n",
    "            en_kucuk = sayi\n",
    "    return en_buyuk, en_kucuk\n",
    "\n",
    "print(en_buyuk_ve_kucuk([1, 2, 3, 4, 5]))"
   ]
  },
  {
   "cell_type": "markdown",
   "id": "3c643e81",
   "metadata": {},
   "source": [
    "FizzBuzz programını Python'da yazın. Program kullanıcıdan bir sayı alacak ve 1'den n e kadar olan sayılarda şu kurallara göre işlem yapacak: Eğer sayı 3'ün katıysa \"Fizz\", 5'in katıysa \"Buzz\", hem 3'ün hem de 5'in katıysa \"FizzBuzz\" yazacak. Program ayrıca FizzBuzz, Fizz ve Buzz sayılarının listelerini ve FizzBuzz sayılarının toplamını da ekrana yazdıracak."
   ]
  },
  {
   "cell_type": "code",
   "execution_count": null,
   "id": "4bcd7047",
   "metadata": {},
   "outputs": [],
   "source": [
    "def FizzBuzz(n):\n",
    "    fizzlistesi = []\n",
    "    buzzlistesi = []\n",
    "    fizzbuzzlistesi=[]\n",
    "    fizzbuzztoplamı=0\n",
    "\n",
    "    for sayi in range(1,n+1):\n",
    "        if sayi%3==0 and sayi%5==0:\n",
    "            fizzbuzzlistesi.append(sayi)\n",
    "            fizzbuzztoplamı+=sayi\n",
    "            print(\"FizzBuzz\")\n",
    "        elif  sayi%3==0:\n",
    "            buzzlistesi.append(sayi)\n",
    "            print(\"Fizz\")\n",
    "        elif sayi%5==0:\n",
    "            fizzlistesi.append(sayi)\n",
    "            print(\"Buzz\")\n",
    "    print(\"Fizzbuzz\",fizzbuzzlistesi)\n",
    "    print(\"fizz\",fizzlistesi)\n",
    "    print(\"buzz\",buzzlistesi)\n",
    "    print(\"fizzbuzztoplamı\",fizzbuzztoplamı)\n",
    "\n",
    "n=int(input(\"bir sayı gir:\"))\n",
    "print(FizzBuzz(n))"
   ]
  },
  {
   "cell_type": "markdown",
   "id": "b3b205bd",
   "metadata": {},
   "source": [
    "**Girilen metnin içindeki harflerin kaç defa geçtiğini gösteren fonksiyon**"
   ]
  },
  {
   "cell_type": "code",
   "execution_count": 15,
   "id": "f72905a7",
   "metadata": {},
   "outputs": [
    {
     "name": "stdout",
     "output_type": "stream",
     "text": [
      "birşeyler yazınız:erdem\n",
      "{'e': 2, 'r': 1, 'd': 1, 'm': 1}\n"
     ]
    }
   ],
   "source": [
    "def karakter_frekansı(metin):\n",
    "    frekans={}\n",
    "\n",
    "    for karakter in metin:\n",
    "        if karakter in frekans:\n",
    "            frekans[karakter]+=1\n",
    "        else:\n",
    "            frekans[karakter]=1\n",
    "\n",
    "    return frekans\n",
    "metin= (input(\"birşeyler yazınız:\"))\n",
    "\n",
    "print(karakter_frekansı(metin))\n"
   ]
  },
  {
   "cell_type": "markdown",
   "id": "218c6939",
   "metadata": {},
   "source": [
    "**\"Python programlama dilinde, dokuz sayı içeren bir liste verilmiştir. Bu liste, bir fonksiyona parametre olarak gönderilerek, listedeki sayıların ortalama, varyans, standart sapma, maksimum, minimum ve toplam değerleri hesaplanmaktadır. Ayrıca, her bir istatistiksel özellik için, listenin satırları ve sütunları boyunca hesaplanmış değerler de ayrı ayrı hesaplanıp bir sözlük içinde saklanmaktadır.**\n",
    "\n",
    "**Bu işlemi gerçekleştiren Python fonksiyonunu yazınız.\"**"
   ]
  },
  {
   "cell_type": "code",
   "execution_count": 17,
   "id": "b76b185d",
   "metadata": {},
   "outputs": [
    {
     "data": {
      "text/plain": [
       "{'mean': [[3.0, 4.0, 5.0], [1.0, 4.0, 7.0], 4.0],\n",
       " 'variance': [[6.0, 6.0, 6.0],\n",
       "  [0.6666666666666666, 0.6666666666666666, 0.6666666666666666],\n",
       "  6.666666666666667],\n",
       " 'standard deviation': [[2.449489742783178,\n",
       "   2.449489742783178,\n",
       "   2.449489742783178],\n",
       "  [0.816496580927726, 0.816496580927726, 0.816496580927726],\n",
       "  2.581988897471611],\n",
       " 'max': [[6, 7, 8], [2, 5, 8], 8],\n",
       " 'min': [[0, 1, 2], [0, 3, 6], 0],\n",
       " 'sum': [[9, 12, 15], [3, 12, 21], 36]}"
      ]
     },
     "execution_count": 17,
     "metadata": {},
     "output_type": "execute_result"
    }
   ],
   "source": [
    "import numpy as np\n",
    "def calculate(list):    \n",
    "    if(len(list)!=9):\n",
    "        raise ValueError(\"List must contain nine numbers.\")\n",
    "    calculations = dict()\n",
    "    tempList = []\n",
    "    reshapedList = np.reshape(list, (3,3)).tolist()\n",
    "    functions = {'mean': np.mean, 'variance': np.var, 'standard deviation': np.std,\n",
    "                 'max': np.max, 'min': np.min, 'sum': np.sum}\n",
    "    for key in functions:\n",
    "        tempList.append(functions[key](reshapedList, axis = 0).tolist()) \n",
    "        tempList.append(functions[key](reshapedList, axis = 1).tolist())\n",
    "        tempList.append(functions[key](list).tolist())\n",
    "        calculations[key] = tempList\n",
    "        tempList = []\n",
    "\n",
    "    return calculations\n",
    "calculate([0,1,2,\n",
    "           3,4,5,\n",
    "           6,7,8])\n"
   ]
  },
  {
   "cell_type": "markdown",
   "id": "316162b5",
   "metadata": {},
   "source": [
    "Tabloya benzer şekilde, sırayla harfleri ötelenmiş bir şifreli mesaj verilmiştir. Verilen mesajın hangi ötelenme sayısı ile şifrelendiğini bulan bir Python fonksiyonu yazın. Örneğin, şifreli mesaj 'Jlljmlqbkkzfe' ise, ötelenme sayısı 4'tür (yani A yerine E, B yerine F, vb. kullanılmıştır). bu kurallara göre kodu yazın"
   ]
  },
  {
   "cell_type": "code",
   "execution_count": 46,
   "id": "b116de91",
   "metadata": {},
   "outputs": [
    {
     "name": "stdout",
     "output_type": "stream",
     "text": [
      "80\n",
      "erdem\n",
      "2\n",
      "gtfgo\n"
     ]
    }
   ],
   "source": [
    "N = int(input())\n",
    "string = list(input())\n",
    "addNum = int(input())\n",
    "\n",
    "length = len(string)\n",
    "for i in range(length):\n",
    "\tif ord(string[i]) <= ord(\"Z\") and ord(string[i]) >= ord(\"A\"):\n",
    "\t\tasciiCode = ord(string[i]) + addNum\n",
    "\t\twhile asciiCode > ord(\"Z\"):\n",
    "\t\t\tasciiCode = asciiCode - ord(\"Z\") + ord(\"A\") - 1\n",
    "\t\tstring[i] = chr(asciiCode)\n",
    "\telif ord(string[i]) <= ord(\"z\") and ord(string[i]) >= ord(\"a\"):\n",
    "\t\tasciiCode = ord(string[i]) + addNum\n",
    "\t\twhile asciiCode > ord(\"z\"):\n",
    "\t\t\tasciiCode = asciiCode - ord(\"z\") + ord(\"a\") - 1\n",
    "\t\tstring[i] = chr(asciiCode)\n",
    "\n",
    "print(\"\".join(string))"
   ]
  },
  {
   "cell_type": "markdown",
   "id": "8cb80daa",
   "metadata": {},
   "source": [
    "**\"Verilen bir metin içindeki karakterlerin tekrar sayılarını hesaplayan bir Python fonksiyonu yazınız. Bu fonksiyon, metindeki rakam ve harf karakterlerin tekrar sayılarını hesaplayarak, metindeki bazı karakterlerin eksik olup olmadığını tespit etmelidir. Eksik karakterler, bir sonuç stringi içinde birleştirilerek geri döndürülmelidir.**\n",
    "\n",
    "**Örnek olarak, 'abcdefghijtuvwxyz0123789' metnindeki eksik karakterleri hesaplayan bir fonksiyon şu şekilde çalışabilir:**\n",
    "\n",
    "**missingCharacters('abcdefghijtuvwxyz0123789')**\n",
    "\n",
    "**Çıktı olarak, bu fonksiyon, metindeki eksik karakterleri içeren bir string döndürmelidir.\"**"
   ]
  },
  {
   "cell_type": "code",
   "execution_count": 18,
   "id": "bfcb7130",
   "metadata": {},
   "outputs": [
    {
     "name": "stdout",
     "output_type": "stream",
     "text": [
      "456klmnopqrs\n"
     ]
    }
   ],
   "source": [
    "def missingCharacters(s):\n",
    "    l=[0]*123\n",
    "    result=\"\"\n",
    "    for i in range(len(s)):\n",
    "        x=ord(s[i])\n",
    "        l[x]+=1\n",
    "    for i in range(48,58):\n",
    "        if(l[i]==0):\n",
    "            result+=chr(i)\n",
    "    for i in range(97,123):\n",
    "        if(l[i]==0):\n",
    "            result+=chr(i)\n",
    "    return result\n",
    "\n",
    "s = 'abcdefghijtuvwxyz0123789'\n",
    "print(missingCharacters(s))"
   ]
  },
  {
   "cell_type": "markdown",
   "id": "a648604e",
   "metadata": {},
   "source": [
    "**• Dizenin ilk harfi değiştirilmeden kalır\n",
    "• Her bir sonraki harf için, x, bunu önceleyen bir harf, y, düşünün:\n",
    "• Eğer y x'i İngilizce alfabesinde önceleyorsa, x'i büyük harfe dönüştürün.\n",
    "o Eğer x y'yi İngilizce alfabesinde önceleyorsa, x'i küçük harfe dönüştürün.\n",
    "X ve y eşitse, harf değişmeden kalır.**\n",
    "\n",
    "Örnek\n",
    "\n",
    "sentence = \"cOOL dog\""
   ]
  },
  {
   "cell_type": "code",
   "execution_count": 19,
   "id": "5e0c3794",
   "metadata": {},
   "outputs": [
    {
     "name": "stdout",
     "output_type": "stream",
     "text": [
      "BLUe MOon\n"
     ]
    }
   ],
   "source": [
    "def transformSentence(sentence):\n",
    "    l=sentence.split()\n",
    "    \n",
    "    li=[]\n",
    "    st=\"\"\n",
    "    for i in l:\n",
    "        st+=i[0]\n",
    "        for j in range(0,len(i)-1):\n",
    "            if(i[j].lower()<i[j+1].lower()):\n",
    "                st+=(i[j+1].upper())\n",
    "            elif(i[j].lower()>i[j+1].lower()):\n",
    "                st+=(i[j+1].lower())\n",
    "            else:\n",
    "                st+=i[j+1]\n",
    "        li.append(st)\n",
    "        st=\"\"\n",
    "    result=\"\"\n",
    "    \n",
    "    for i in li:\n",
    "        result=result+\" \"+i\n",
    "    return (result.strip())\n",
    "sentence= \"Blue Moon\"\n",
    "print(transformSentence(sentence))"
   ]
  },
  {
   "cell_type": "markdown",
   "id": "0e0579da",
   "metadata": {},
   "source": [
    "Verilen bir 2D matris (grid) içinde, herhangi bir hücrenin etrafında en büyük sayı olma özelliğine sahip olduğu hücrelerin sayısını bulan bir fonksiyon yazınız. Bir hücrenin etrafındaki hücreler (komşuları) yalnızca doğrudan sağında, solunda, üstünde ve altında olan hücrelerdir (köşegenler dahil değil).\n",
    "\n",
    "Fonksiyon İmzası: def numCells(grid: List[List[int]]) -> int\n",
    "\n",
    "Örnekler:\n",
    "    numCells([[8, 5, 3], [4, 5, 6], [7, 8, 9]]) => 2\n",
    "numCells([[1, 2, 3], [4, 5, 6], [7, 8, 9]]) => 1\n",
    "numCells([[1, 4, 4], [4, 5, 6], [7, 8, 9]]) => 3\n",
    "Açıklamalar:\n",
    "\n",
    "İlk örnekte, sadece 8 ve 9'un etrafındaki hücrelerden daha büyük olduğu için 2 hücre en büyük sayı olma özelliğine sahiptir.\n",
    "İkinci örnekte, sadece 9'un etrafındaki hücrelerden daha büyük olduğu için sadece bir hücre en büyük sayı olma özelliğine sahiptir.\n",
    "Üçüncü örnekte, 5, 6 ve 9'un etrafındaki hücrelerden daha büyük olduğu için bu üç hücre en büyük sayı olma özelliğine sahiptir.\n"
   ]
  },
  {
   "cell_type": "code",
   "execution_count": 21,
   "id": "7fa47135",
   "metadata": {},
   "outputs": [
    {
     "name": "stdout",
     "output_type": "stream",
     "text": [
      "2\n"
     ]
    }
   ],
   "source": [
    "def numCells(grid):\n",
    "    # Write your code here\n",
    "    res = 0\n",
    "    for i in range(len(grid)):\n",
    "        for k in range (len(grid[0])):\n",
    "            val = grid[i][k]\n",
    "            flag = 1\n",
    "            for ii in range (max(0,i-1),min(len(grid),i+2)):\n",
    "                for kk in range(max(0,k-1),min(len(grid[0]),k+2)):\n",
    "                    if (ii,kk)!=(i,k) and val<= grid[ii][kk] :\n",
    "                         flag=0\n",
    "                         break \n",
    "                if flag == 0:\n",
    "                     break\n",
    "            else:\n",
    "                res+=1\n",
    "    return res\n",
    "res = [[8, 5, 3], [4, 5, 6], [7, 8, 9]]\n",
    "\n",
    "print(numCells(res))"
   ]
  },
  {
   "cell_type": "markdown",
   "id": "f23b9e94",
   "metadata": {},
   "source": [
    "Verilen string parametresini büyük harfli Upper Camel Case formatında döndüren StringChallenge(str) fonksiyonunu yazmanız gerekiyor. İlk harfi büyük olacak şekilde her kelimenin ilk harfi büyük olacak ve kelimeler birbirlerinden ayrılacak olan özel karakterlerle birleştirilecek.\n",
    "\n",
    "Örnek olarak, eğer str \"Daniel LikeS-coding\" ise programınız string \"DanielLikesCoding\" şeklinde dönmelidir.\n",
    "\n",
    "Örnekler:\n",
    "\n",
    "Girdi: \"cats AND*Dogs-are Awesome\" Çıktı: CatsAndDogsAreAwesome\n",
    "\n",
    "Girdi: \"a b c d-e-f%g\" Çıktı: ABCDEFG"
   ]
  },
  {
   "cell_type": "code",
   "execution_count": null,
   "id": "d1c8caa6",
   "metadata": {},
   "outputs": [],
   "source": [
    "def StringChallenge(strParam):\n",
    "    # Use regular expression to split the string into words\n",
    "    import re\n",
    "    words = re.split('[^\\w]+', strParam)\n",
    "    # Capitalize the first letter of each word and join them back together\n",
    "    return ''.join(word.capitalize() for word in words)\n",
    "    return strParam\n",
    "\n",
    "\n",
    "# keep this function call here\n",
    "print(StringChallenge(input(\"a b c d-e-f%g\")))"
   ]
  },
  {
   "cell_type": "markdown",
   "id": "1cf34313",
   "metadata": {},
   "source": [
    "Python dosyasında, https://co derbyte.com/api/challenges/json/list-numbers adresine GET isteği gönderen bir program yazın. Bu adres veri anahtarını içeren ve değeri bir sayı dizisi olan bir JSON yanıt döndürür. Programınız, sayı listesinin standart sapmasını (en yakın tam sayıya yuvarlanmış) hesaplamalı ve daha sonra iki büyük aykırı sayı çıkarıldıktan sonra tekrar hesaplamalıdır. Son olarak, her standart sapmayı boşlukla ayrılmış şekilde yazdırmalısınız.\n",
    "\n",
    "Örnek Girdi 1, 2, 3, 4, 5, 6, 10, 100, 200\n",
    "\n",
    "Örnek Çıktı 65 3\n",
    "\n",
    "[10, 12, 23, 23, 16, 3242342, 23, 21, 16, 45, 100, 2, 4, 6, 10, 200, 34, 1123, 12, 14, 5, 3, 66, 12, 6, 3, 1, 3, 2224234]"
   ]
  },
  {
   "cell_type": "code",
   "execution_count": 22,
   "id": "77d36c17",
   "metadata": {},
   "outputs": [
    {
     "name": "stdout",
     "output_type": "stream",
     "text": [
      "705370 211\n"
     ]
    }
   ],
   "source": [
    "import requests\n",
    "import numpy as np\n",
    "import pandas as pd\n",
    "\n",
    "r = requests.get('https://coderbyte.com/api/challenges/json/list-numbers')\n",
    "data = r.json()[\"data\"]\n",
    "arr = np.array(data)\n",
    "\n",
    "std_dev = round(np.std(arr))\n",
    "arr_outliers = arr[np.argsort(arr)[:-2]]\n",
    "data = round(np.std(arr_outliers))\n",
    "\n",
    "print(std_dev, data)"
   ]
  },
  {
   "cell_type": "markdown",
   "id": "a25ef756",
   "metadata": {},
   "source": [
    " **Fonksiyon QuestionsMarks(str), tek basamaklı sayılar, harfler ve soru işaretleri içeren str string parametresini \n",
    "alacak ve her bir çift sayının toplamının 10 olduğu her iki sayı arasında tam olarak 3 soru işareti olup olmadığını\n",
    "kontrol edecek. Eğer öyleyse, programınız \"true\" dizesini döndürmeli, aksi takdirde \"false\" dizesini döndürmelidir. \n",
    "Dizide toplamı 10 olan iki sayı yoksa, programınız da yanıt olarak \"false\" dizesini döndürmelidir.\n",
    "Örneğin: eğer str \"arrb6???4xxbl5???eee5\" ise, programınız 6 ile 4 arasında tam olarak 3 soru işareti ve dizinin \n",
    " sonundaki 5 ile 5 arasında da tam olarak 3 soru işareti olduğu için \"true\" dizesini döndürmelidir**."
   ]
  },
  {
   "cell_type": "code",
   "execution_count": 23,
   "id": "affafd43",
   "metadata": {},
   "outputs": [
    {
     "name": "stdout",
     "output_type": "stream",
     "text": [
      "true\n"
     ]
    }
   ],
   "source": [
    "def QuestionsMarks(s):\n",
    "    count_q = 0\n",
    "    a = 0\n",
    "    start_count = False\n",
    "    true_exist = False\n",
    "    for i in s:\n",
    "        if start_count and i == '?':\n",
    "            count_q += 1\n",
    "        if i.isdigit():\n",
    "            a += int(i)\n",
    "            if a == 10 and count_q == 3:\n",
    "                true_exist = True\n",
    "            if start_count and a == 10 and count_q != 3:\n",
    "                return 'false'\n",
    "            a = int(i)\n",
    "            count_q = 0\n",
    "            start_count = True\n",
    "    return 'true' if true_exist else 'false'\n",
    "\n",
    "\n",
    "print(QuestionsMarks('b6???4xxbl5???ee5'))  # Output: true"
   ]
  },
  {
   "cell_type": "markdown",
   "id": "89d6b169",
   "metadata": {},
   "source": [
    "Aşağıda verilen kurallara göre bir kelime kökünden türemişse o kelimenin sonundan \"ed\", \"ly\" veya \"ing\" takılarını kaldırın. Eğer kelime 8 harften daha uzunsa ilk 8 harfini alın. Tüm kelimeleri bu şekilde değiştirilmiş haliyle birleştirin ve sonucu döndürün.\n",
    "\n",
    "Kural 1: Eğer kelime \"ed\" veya \"ly\" ile bitiyorsa, bu ekleri kelimeden kaldırın.\n",
    "Kural 2: Eğer kelime \"ing\" ile bitiyorsa, \"ing\" eki kaldırılır.\n",
    "Kural 3: Eğer kelime 8 harften daha uzunsa, ilk 8 harfini alın.\n",
    "\n",
    "Bu kurallara uygun bir Python fonksiyonu yazın:"
   ]
  },
  {
   "cell_type": "code",
   "execution_count": null,
   "id": "8a487da2",
   "metadata": {},
   "outputs": [],
   "source": [
    "def stemmer(text):\n",
    "    text = text.split()\n",
    "    stemmed_text = []\n",
    "    for word in text:\n",
    "        if word.endswith('ed') or word.endswith('ly') or word.endswith('ing'):\n",
    "            if word.endswith('ed'):\n",
    "                word = word[:-2]\n",
    "            elif word.endswith('ly'):\n",
    "                word = word[:-2]\n",
    "            elif word.endswith('ing'):\n",
    "                word = word[:-3]\n",
    "        if len(word) > 8:\n",
    "            word = word[:8]\n",
    "        stemmed_text.append(word)\n",
    "    return ' '.join(stemmed_text)\n",
    "\n",
    "text = \"Stemming is the process of reducing words to their base or root form\"\n",
    "print(stemmer(text))"
   ]
  },
  {
   "cell_type": "markdown",
   "id": "f95e198d",
   "metadata": {},
   "source": [
    "Soru: Bir programcı, bir fonksiyon çağrısı için kaydedilen loglarla ilgili bir sorunu çözmek istiyor. Loglar bir dizi şeklinde verilmiştir ve her bir log, bir fonksiyon çağrısının başlangıcını veya bitişini temsil eden bir metindir. Başlangıç ve bitiş logları birlikte kullanıldığında, bu çağrının toplam yürütme süresini hesaplamak mümkündür. Bununla birlikte, bir çağrı sırasında başka bir çağrı çağrılabilir ve bu durumda, alt çağrının yürütme süresi, ana çağrının yürütme süresinden düşülerek hesaplanmalıdır. Verilen loglar ve toplam fonksiyon sayısı n'nin yanı sıra, her bir çağrının yürütme süresini hesaplayan bir fonksiyon yazmanız isteniyor. Fonksiyon çağrısı başlatmak için \"start\" ve durdurmak için \"end\" kullanılan bir log dizesi verilir.\n",
    "\n",
    "Örnek olarak, getTotalExecutionTime(n, logs) fonksiyonu, n = 3 ve logs = [\"0:start:0\", \"2:start:4\", \"2:end:5\", \"1:end:7\"] olarak verildiğinde, aşağıdaki çıktıyı döndürmelidir:\n",
    "[3, 2, 2]"
   ]
  },
  {
   "cell_type": "code",
   "execution_count": null,
   "id": "a61de8f0",
   "metadata": {},
   "outputs": [],
   "source": [
    "def getTotalExecutionTime(n, logs):\n",
    "    exclusive_times = [0] * n\n",
    "    function_stack = []\n",
    "    running_time = 0\n",
    "\n",
    "    for log in logs:\n",
    "        function_id, action, timestamp = log.split(':')\n",
    "        function_id = int(function_id)\n",
    "        timestamp = int(timestamp)\n",
    "\n",
    "        if action == \"start\":\n",
    "            if function_stack:\n",
    "                exclusive_times[function_stack[-1]] += timestamp - running_time\n",
    "            function_stack.append(function_id)\n",
    "            running_time = timestamp\n",
    "        else:\n",
    "            exclusive_times[function_stack.pop()] += timestamp - running_time + 1\n",
    "            running_time = timestamp + 1\n",
    "\n",
    "    return exclusive_times\n",
    "\n",
    "n = 3\n",
    "logs = [\"0:start:0\", \"2:start:4\", \"2:end:5\", \"1:end:7\"]\n",
    "print(getTotalExecutionTime(n, logs))"
   ]
  }
 ],
 "metadata": {
  "kernelspec": {
   "display_name": "Python 3 (ipykernel)",
   "language": "python",
   "name": "python3"
  },
  "language_info": {
   "codemirror_mode": {
    "name": "ipython",
    "version": 3
   },
   "file_extension": ".py",
   "mimetype": "text/x-python",
   "name": "python",
   "nbconvert_exporter": "python",
   "pygments_lexer": "ipython3",
   "version": "3.9.13"
  }
 },
 "nbformat": 4,
 "nbformat_minor": 5
}
