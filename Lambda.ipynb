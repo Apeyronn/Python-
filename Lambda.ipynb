{
 "cells": [
  {
   "cell_type": "markdown",
   "id": "72ddf497",
   "metadata": {},
   "source": [
    "# Writing a lambda function"
   ]
  },
  {
   "cell_type": "code",
   "execution_count": 1,
   "id": "338c1f70",
   "metadata": {},
   "outputs": [],
   "source": [
    "def echo_word(word1, echo):\n",
    "    \"\"\"Concatenate echo copies of word1.\"\"\"\n",
    "    words = word1 * echo\n",
    "    return words"
   ]
  },
  {
   "cell_type": "code",
   "execution_count": null,
   "id": "a10bf27e",
   "metadata": {},
   "outputs": [],
   "source": [
    "# Define echo_word as a lambda function: echo_word\n",
    "echo_word = (lambda word1, echo: word1*echo)\n",
    "\n",
    "# Call echo_word: result\n",
    "result = echo_word(\"hey\",5)\n",
    "\n",
    "# Print result\n",
    "print(result)"
   ]
  },
  {
   "cell_type": "markdown",
   "id": "97347e26",
   "metadata": {},
   "source": [
    "# map() ve lambda"
   ]
  },
  {
   "cell_type": "code",
   "execution_count": null,
   "id": "947a3148",
   "metadata": {},
   "outputs": [],
   "source": [
    "# Create a list of strings: spells\n",
    "spells = ['protego', 'accio', 'expecto patronum', 'legilimens']\n",
    "\n",
    "# Use map() to apply a lambda function over spells: shout_spells\n",
    "shout_spells = map(lambda item: item + '!!!', spells)\n",
    "\n",
    "# item argüman , argüman ile ünlem toplamı ve döngü yapılacak liste\n",
    "\n",
    "# Convert shout_spells to a list: shout_spells_list\n",
    "shout_spells_list = list(shout_spells)\n",
    "\n",
    "# Print the result\n",
    "print(shout_spells_list)\n",
    "\n"
   ]
  },
  {
   "cell_type": "markdown",
   "id": "36bade4b",
   "metadata": {},
   "source": [
    "# Filter lambda"
   ]
  },
  {
   "cell_type": "code",
   "execution_count": null,
   "id": "9d7e3902",
   "metadata": {},
   "outputs": [],
   "source": [
    "# Create a list of strings: fellowship\n",
    "fellowship = ['frodo', 'samwise', 'merry', 'pippin', 'aragorn', 'boromir', 'legolas', 'gimli', 'gandalf']\n",
    "\n",
    "# Use filter() to apply a lambda function over fellowship: result\n",
    "result = filter(lambda member: len(member)>6, fellowship)\n",
    "\n",
    "# Convert result to a list: result_list\n",
    "result_list= list(result)\n",
    "\n",
    "# Print result_list\n",
    "print(result_list)"
   ]
  },
  {
   "cell_type": "markdown",
   "id": "c0538468",
   "metadata": {},
   "source": [
    "# Reduce()"
   ]
  },
  {
   "cell_type": "markdown",
   "id": "bf536ca8",
   "metadata": {},
   "source": [
    "reduce(), functools modülü içinde bulunan bir fonksiyondur. Bir liste üzerinde toplama, çıkarma, çarpma gibi işlemler yaparak bir sonuç döndürür.\n",
    "\n",
    "Fonksiyon, ilk olarak bir fonksiyon ve bir dizi gibi iki argüman alır. İşlev, listenin ilk iki öğesine uygulanır ve ardından bu sonucu üçüncü öğeyle yeniden uygular. Bu işlem, listenin tüm öğeleri için tekrarlanır ve sonunda bir tek sonuç döndürür.\n",
    "\n",
    "Örneğin, reduce() ile bir listenin elemanlarının toplamını bulabilirsiniz. Aşağıdaki örnekte, reduce() fonksiyonu, numbers listesindeki tüm öğeleri toplayarak sonucu döndürür:"
   ]
  },
  {
   "cell_type": "code",
   "execution_count": 1,
   "id": "6f2de71b",
   "metadata": {},
   "outputs": [
    {
     "name": "stdout",
     "output_type": "stream",
     "text": [
      "15\n"
     ]
    }
   ],
   "source": [
    "from functools import reduce\n",
    "\n",
    "numbers = [1, 2, 3, 4, 5]\n",
    "total = reduce(lambda x, y: x + y, numbers)\n",
    "print(total) # 15\n"
   ]
  }
 ],
 "metadata": {
  "kernelspec": {
   "display_name": "Python 3 (ipykernel)",
   "language": "python",
   "name": "python3"
  },
  "language_info": {
   "codemirror_mode": {
    "name": "ipython",
    "version": 3
   },
   "file_extension": ".py",
   "mimetype": "text/x-python",
   "name": "python",
   "nbconvert_exporter": "python",
   "pygments_lexer": "ipython3",
   "version": "3.9.13"
  }
 },
 "nbformat": 4,
 "nbformat_minor": 5
}
