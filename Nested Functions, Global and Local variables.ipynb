{
 "cells": [
  {
   "cell_type": "markdown",
   "id": "02c4d16a",
   "metadata": {},
   "source": [
    "# Global ve Lokal Değişkenler"
   ]
  },
  {
   "cell_type": "markdown",
   "id": "c9b348b0",
   "metadata": {},
   "source": [
    "Global ve lokal kavramları, değişkenlerin hangi kapsamda tanımlandığına bağlı olarak kullanılır.\n",
    "\n",
    "Lokal değişkenler, sadece tanımlandığı yerde (yani bir fonksiyon içinde) geçerlidir ve o fonksiyonun dışındaki kod bloklarında kullanılamazlar. Aynı isimde farklı bir değişken tanımlanana kadar, bu değişkenin değeri yalnızca fonksiyon içindeki işlemlerde kullanılabilir. Örneğin, aşağıdaki kodda **foo fonksiyonu içinde tanımlanan x değişkeni bir lokal değişkendir:**"
   ]
  },
  {
   "cell_type": "code",
   "execution_count": null,
   "id": "52984511",
   "metadata": {},
   "outputs": [],
   "source": [
    "def foo():\n",
    "    x = 10\n",
    "    print(x)\n",
    "\n",
    "foo() # 10\n",
    "print(x) # Hata! NameError: name 'x' is not defined\n"
   ]
  },
  {
   "cell_type": "markdown",
   "id": "a27ffc32",
   "metadata": {},
   "source": [
    "Global değişkenler ise, programın her yerinde tanımlanabilir ve bu değişkenlere herhangi bir fonksiyon içinden erişilebilir. Global değişkenler, programın birçok yerinde kullanılan ve her seferinde aynı değeri alan sabitler gibi verilerin depolanması için kullanılabilir. Örneğin, aşağıdaki kodda x değişkeni bir global değişkendir ve foo fonksiyonu içinden de erişilebilir:"
   ]
  },
  {
   "cell_type": "code",
   "execution_count": 38,
   "id": "7e8567d6",
   "metadata": {},
   "outputs": [
    {
     "name": "stdout",
     "output_type": "stream",
     "text": [
      "10\n",
      "10\n"
     ]
    }
   ],
   "source": [
    "x = 10\n",
    "\n",
    "def foo():\n",
    "    print(x)\n",
    "\n",
    "foo() # 10\n",
    "print(x) # 10\n"
   ]
  },
  {
   "cell_type": "markdown",
   "id": "4d57e0e1",
   "metadata": {},
   "source": [
    "Ancak, bir fonksiyon içinde global değişkenlerin kullanımı, kodun okunabilirliğini ve bakımını zorlaştırabilir. Bu nedenle, global değişkenlerin kullanımı mümkün olduğunca sınırlandırılmalıdır. Bu amaçla, Python'da global değişkenlerin tanımlanması için global anahtar kelimesi kullanılır. Örneğin:"
   ]
  },
  {
   "cell_type": "code",
   "execution_count": 39,
   "id": "6e4648c5",
   "metadata": {},
   "outputs": [
    {
     "name": "stdout",
     "output_type": "stream",
     "text": [
      "20\n",
      "20\n"
     ]
    }
   ],
   "source": [
    "x = 10\n",
    "\n",
    "def foo():\n",
    "    global x\n",
    "    x = 20\n",
    "    print(x)\n",
    "\n",
    "foo() # 20\n",
    "print(x) # 20\n"
   ]
  },
  {
   "cell_type": "markdown",
   "id": "1097c027",
   "metadata": {},
   "source": [
    "Yukarıdaki örnekte, foo fonksiyonu içinde x değişkeni global bir değişken olarak tanımlanmıştır. Fonksiyon içinde, x değişkeninin değeri 20 olarak değiştirilmiş ve bu değişiklik global bir değişken olarak tüm programda etkili olmuştur."
   ]
  },
  {
   "cell_type": "code",
   "execution_count": 7,
   "id": "335c191e",
   "metadata": {},
   "outputs": [
    {
     "name": "stdout",
     "output_type": "stream",
     "text": [
      "3\n",
      "12\n"
     ]
    }
   ],
   "source": [
    "num=5\n",
    "def func1():\n",
    "    num = 3\n",
    "    print(num)\n",
    "\n",
    "def func2():\n",
    "    global num\n",
    "    num = 6\n",
    "    double_num = num * 2\n",
    "\n",
    "    print(double_num)\n",
    "func1()\n",
    "func2()\n",
    "# bu çıktı 12 verir num =6 global yapıldı\n"
   ]
  },
  {
   "cell_type": "code",
   "execution_count": 27,
   "id": "dc1776d1",
   "metadata": {},
   "outputs": [
    {
     "name": "stdout",
     "output_type": "stream",
     "text": [
      "3\n",
      "6\n",
      "10 doublenum\n"
     ]
    }
   ],
   "source": [
    "num=5\n",
    "def func1():\n",
    "    num = 3\n",
    "    print(num)\n",
    "\n",
    "def func2():\n",
    "    global num\n",
    "    double_num = num * 2\n",
    "    num = 6\n",
    "    print(num)\n",
    "    print(double_num,\"doublenum\")\n",
    "    \n",
    "func1()    \n",
    "func2()\n",
    "# burda ise global olarak 5 kullanıldı ama 6 global olarak kaldı"
   ]
  },
  {
   "cell_type": "code",
   "execution_count": 31,
   "id": "3d0f5ddb",
   "metadata": {},
   "outputs": [
    {
     "name": "stdout",
     "output_type": "stream",
     "text": [
      "50 2\n",
      "30 2\n",
      "100 1\n",
      "30 2\n"
     ]
    }
   ],
   "source": [
    "x = 50\n",
    "\n",
    "def one():\n",
    "   x = 10\n",
    "\n",
    "def two():\n",
    "    global x\n",
    "    x = 30\n",
    "\n",
    "def three():\n",
    "    x = 100\n",
    "    print(x,\"1\")\n",
    "\n",
    "for func in [one, two, three]:\n",
    "    func()\n",
    "    print(x,\"2\")"
   ]
  },
  {
   "cell_type": "code",
   "execution_count": 32,
   "id": "9a29e97e",
   "metadata": {},
   "outputs": [
    {
     "name": "stdout",
     "output_type": "stream",
     "text": [
      "10\n",
      "50 1\n",
      "30 1\n",
      "100\n",
      "30 1\n"
     ]
    }
   ],
   "source": [
    "x = 50\n",
    "\n",
    "def one():\n",
    "  y = 10\n",
    "  print(y)\n",
    "\n",
    "def two():\n",
    "  global x\n",
    "  x = 30\n",
    "\n",
    "def three():\n",
    "  x = 100\n",
    "  print(x)\n",
    "\n",
    "for func in [one, two, three]:\n",
    "  func()\n",
    "  print(x,\"1\")\n",
    "    # ilk 10 basıldı\n",
    "    #sonra glo"
   ]
  },
  {
   "cell_type": "markdown",
   "id": "ad7b31cf",
   "metadata": {},
   "source": [
    "# Fonksiyonlarda Global Lokal"
   ]
  },
  {
   "cell_type": "code",
   "execution_count": 33,
   "id": "2afdc7bb",
   "metadata": {},
   "outputs": [
    {
     "name": "stdout",
     "output_type": "stream",
     "text": [
      "teen titans\n",
      "justice league\n"
     ]
    }
   ],
   "source": [
    "# Create a string: team\n",
    "team = \"teen titans\"\n",
    "\n",
    "# Define change_team()\n",
    "def change_team():\n",
    "    \"\"\"Change the value of the global variable team.\"\"\"\n",
    "\n",
    "    # Use team in global scope\n",
    "    global team\n",
    "\n",
    "    # Change the value of team in global: team\n",
    "    team = \"justice league\"\n",
    "\n",
    "# Print team\n",
    "print(team)\n",
    "\n",
    "# Call change_team()\n",
    "change_team()\n",
    "\n",
    "# Print team\n",
    "print(team)"
   ]
  },
  {
   "cell_type": "code",
   "execution_count": 34,
   "id": "b1bf7b4f",
   "metadata": {},
   "outputs": [
    {
     "name": "stdout",
     "output_type": "stream",
     "text": [
      "teen titans\n",
      "teen titans\n"
     ]
    }
   ],
   "source": [
    "# Create a string: team\n",
    "team = \"teen titans\"\n",
    "\n",
    "# Define change_team()\n",
    "def change_team():\n",
    "    \"\"\"Change the value of the global variable team.\"\"\"\n",
    "\n",
    "    # Use team in global scope\n",
    "    \n",
    "\n",
    "    # Change the value of team in global: team\n",
    "    team = \"justice league\"\n",
    "\n",
    "# Print team\n",
    "print(team)\n",
    "\n",
    "# Call change_team()\n",
    "change_team()\n",
    "\n",
    "# Print team\n",
    "print(team)\n",
    "# eğer global team i silersek çıktı şöyle olur"
   ]
  },
  {
   "cell_type": "markdown",
   "id": "99015ef5",
   "metadata": {},
   "source": [
    "# Nested Functions"
   ]
  },
  {
   "cell_type": "code",
   "execution_count": 9,
   "id": "07f97f84",
   "metadata": {},
   "outputs": [
    {
     "name": "stdout",
     "output_type": "stream",
     "text": [
      "(6, 5, 6)\n"
     ]
    }
   ],
   "source": [
    "def mod2plus5(x1,x2,x3):\n",
    "    new_x1 = x1 %2 +5\n",
    "    new_x2 = x2 %2 +5\n",
    "    new_x3 = x3 %2 +5\n",
    "    return(new_x1,new_x2,new_x3)\n",
    "print(mod2plus5(1,2,3))"
   ]
  },
  {
   "cell_type": "code",
   "execution_count": 37,
   "id": "a70b5eec",
   "metadata": {},
   "outputs": [
    {
     "name": "stdout",
     "output_type": "stream",
     "text": [
      "(6, 5, 6)\n"
     ]
    }
   ],
   "source": [
    "def mod2plus5(x1,x2,x3):#1\n",
    "    def inner(x): #3,5.adım x:1\n",
    "        return x%2+5 #6\n",
    "    return(inner(x1),inner(x2),inner(x3)) #4\n",
    "print(mod2plus5(1,2,3)) #2"
   ]
  },
  {
   "cell_type": "code",
   "execution_count": null,
   "id": "4ac734cd",
   "metadata": {},
   "outputs": [],
   "source": [
    "#decorator\n",
    "import time\n",
    "\n",
    "\n",
    "def zaman_hesapla(func): #1 #4\n",
    "    def wrapper(sayılar): #5\n",
    "        baslama = time.time()\n",
    "\n",
    "        sonuç = func(sayılar)\n",
    "\n",
    "        bitis = time.time()\n",
    "\n",
    "        print(func.__name__ + \" \" + str(bitis - baslama) + \" saniye sürdü.\")\n",
    "        return sonuç\n",
    "\n",
    "    return wrapper #6\n",
    "\n",
    "\n",
    "@zaman_hesapla #2\n",
    "def kareleri_hesapla(sayılar): #3 ,7\n",
    "    sonuç = list()\n",
    "\n",
    "    for i in sayılar:\n",
    "        sonuç.append(i ** 2)\n",
    "\n",
    "    return sonuç\n",
    "\n",
    "\n",
    "@zaman_hesapla\n",
    "def küpleri_hesapla(sayılar):\n",
    "    sonuç = list()\n",
    "\n",
    "    for i in sayılar:\n",
    "        sonuç.append(i ** 3)\n",
    "\n",
    "    return sonuç\n",
    "\n",
    "\n",
    "kareleri_hesapla(range(100000))\n",
    "küpleri_hesapla(range(100000))"
   ]
  },
  {
   "cell_type": "code",
   "execution_count": null,
   "id": "29d84ebc",
   "metadata": {},
   "outputs": [],
   "source": [
    "def create_math_function(func_name): #1,3\n",
    "    if func_name == 'add': #3\n",
    "        def add(a, b): #4,7\n",
    "            return a + b #8\n",
    "\n",
    "        return add #5\n",
    "    elif func_name == 'subtract': #\n",
    "        # Define the subtract() function\n",
    "        def subtract(a, b): #\n",
    "            return a - b #\n",
    "\n",
    "        return subtract #\n",
    "    else: #\n",
    "        print(\"I don't know that one\") #\n",
    "\n",
    "\n",
    "add = create_math_function('add') #2\n",
    "print('5 + 2 = {}'.format(add(5, 2))) #6,9\n",
    "\n",
    "subtract = create_math_function('subtract') #\n",
    "print('5 - 2 = {}'.format(subtract(5, 2))) #"
   ]
  },
  {
   "cell_type": "code",
   "execution_count": 22,
   "id": "2912a445",
   "metadata": {},
   "outputs": [
    {
     "name": "stdout",
     "output_type": "stream",
     "text": [
      "4 64\n"
     ]
    }
   ],
   "source": [
    "#kod(1)\n",
    "def raise_val(n): # 2.adım n:2 8.adım n:3 13.adım n:2\n",
    "    def inner(x): # 3.adım 9.adım 14.adım x:2 17.adım x:4\n",
    "        raised = x ** n # 15.adım raised:4\n",
    "        return raised# 16.adım 18.adım\n",
    "\n",
    "    return inner # 5.adım 10.adım\n",
    "\n",
    "\n",
    "square = raise_val(2)# 1.adım 6.adım\n",
    "cube = raise_val(3)# 7.adım 11.adım\n",
    "print(square(2), cube(4))# 12.adım 16.adım 19.adım\n"
   ]
  },
  {
   "cell_type": "code",
   "execution_count": 23,
   "id": "48a9ac5c",
   "metadata": {},
   "outputs": [
    {
     "name": "stdout",
     "output_type": "stream",
     "text": [
      "Merhaba\n"
     ]
    }
   ],
   "source": [
    "#kod(2)\n",
    "def yazıcı(): #2.adım\n",
    "    def yaz(mesaj): # 3.adım 7.adım mesaj:\"Merhaba\n",
    "        print(mesaj) #8.adım ekrana yazdırma\n",
    "    return yaz #4.adım\n",
    "y = yazıcı() #1.adım  5.adım\n",
    "y(\"Merhaba\") #6.adım"
   ]
  },
  {
   "cell_type": "code",
   "execution_count": 28,
   "id": "de3e8f8a",
   "metadata": {},
   "outputs": [
    {
     "name": "stdout",
     "output_type": "stream",
     "text": [
      "karesi:16\n"
     ]
    }
   ],
   "source": [
    "def hesaplama(x):\n",
    "    def kare_al(a):\n",
    "        return a**2\n",
    "    kare = kare_al(x)\n",
    "    return f\"karesi:{kare}\"\n",
    "print(hesaplama(4))"
   ]
  },
  {
   "cell_type": "code",
   "execution_count": 29,
   "id": "de546119",
   "metadata": {},
   "outputs": [
    {
     "name": "stdout",
     "output_type": "stream",
     "text": [
      "('a!!!', 'b!!!', 'c!!!')\n"
     ]
    }
   ],
   "source": [
    "# Define three_shouts\n",
    "def three_shouts(word1, word2, word3):\n",
    "    \"\"\"Returns a tuple of strings\n",
    "    concatenated with '!!!'.\"\"\"\n",
    "\n",
    "    # Define inner\n",
    "    def inner(word):\n",
    "        \"\"\"Returns a string concatenated with '!!!'.\"\"\"\n",
    "        return word + '!!!'\n",
    "\n",
    "    # Return a tuple of strings\n",
    "    return (inner(word1), inner(word2), inner(word3))\n",
    "\n",
    "# Call three_shouts() and print\n",
    "print(three_shouts('a', 'b', 'c'))"
   ]
  },
  {
   "cell_type": "code",
   "execution_count": 30,
   "id": "15dc3547",
   "metadata": {
    "scrolled": true
   },
   "outputs": [
    {
     "name": "stdout",
     "output_type": "stream",
     "text": [
      "hellohello hellohellohello\n"
     ]
    }
   ],
   "source": [
    "# Define echo\n",
    "def echo(n): # 2.adım n:2 7.adım n:3 10.adım n=2 için \n",
    "    \"\"\"Return the inner_echo function.\"\"\"\n",
    "\n",
    "    # Define inner_echo\n",
    "    def inner_echo(word1): #3.adım 8.adım 11.adım word1:hello 14.adım word1:hello\n",
    "        \"\"\"Concatenate n copies of word1.\"\"\"\n",
    "        echo_word = word1 * n # 12.adım echo_word=hellohello 15.adım:\"hellohellohello\n",
    "        return echo_word # 13.adım 16.adım\n",
    "\n",
    "    # Return inner_echo\n",
    "    return inner_echo #4.adım 9.adım\n",
    "\n",
    "# Call echo: twice\n",
    "twice = echo(2) #1.adım 5.adım\n",
    "\n",
    "# Call echo: thrice\n",
    "thrice=echo(3) #6.adım\n",
    "\n",
    "# Call twice() and thrice() then print\n",
    "print(twice('hello'), thrice('hello')) # 10.adım 17.adım"
   ]
  },
  {
   "cell_type": "markdown",
   "id": "6d14b812",
   "metadata": {},
   "source": [
    "1.adım fonksiyon çağrısını bul\n",
    "2.adım yerine götür\n",
    "3.yerine götürdükten sonra iç fonksiyona bak\n",
    "4.return a git (iç fonksiyonu döndüren)\n",
    "5.yapılacak işleme git (print(twice('hello'), thrice('hello')))\n",
    "6.helloyu parametre yerine yaz ve bundan sonrası normal fonks.\n"
   ]
  },
  {
   "cell_type": "markdown",
   "id": "be324326",
   "metadata": {},
   "source": [
    "# ‘nonlocal’ Deyimi\n",
    "**nonlocal deyimi yerel olmayan anlamına gelir. Kullanım amacı global deyimi ile benzerdir. Ancak bunu kullanmamız küresel yani global değişkenlere ulaşmamızı değil, yerel olmayan değişkenlere ulaşmamızı sağlar. Ayrıca bu deyimi sadece iç içe fonksiyonlarda kullanabiliriz.**"
   ]
  },
  {
   "cell_type": "code",
   "execution_count": 41,
   "id": "ace8e70f",
   "metadata": {},
   "outputs": [
    {
     "name": "stdout",
     "output_type": "stream",
     "text": [
      "iç_fonksiyon: iç\n",
      "dış_fonksiyon: dış\n"
     ]
    }
   ],
   "source": [
    "def dış_fonksiyon():\n",
    "    x = \"dış\"\n",
    "\n",
    "    def iç_fonksiyon():\n",
    "        \n",
    "        x = \"iç\"\n",
    "        print(\"iç_fonksiyon:\", x)\n",
    "\n",
    "    iç_fonksiyon()\n",
    "    print(\"dış_fonksiyon:\", x)\n",
    "\n",
    "dış_fonksiyon()"
   ]
  },
  {
   "cell_type": "code",
   "execution_count": 43,
   "id": "9eb85474",
   "metadata": {},
   "outputs": [
    {
     "name": "stdout",
     "output_type": "stream",
     "text": [
      "iç_fonksiyon: iç\n",
      "dış_fonksiyon: iç\n"
     ]
    }
   ],
   "source": [
    "def dış_fonksiyon():\n",
    "    x = \"dış\"\n",
    "\n",
    "    def iç_fonksiyon():\n",
    "        nonlocal x\n",
    "        x = \"iç\"\n",
    "        print(\"iç_fonksiyon:\", x)\n",
    "\n",
    "    iç_fonksiyon()\n",
    "    print(\"dış_fonksiyon:\", x)\n",
    "\n",
    "dış_fonksiyon()"
   ]
  },
  {
   "cell_type": "code",
   "execution_count": 40,
   "id": "a9093282",
   "metadata": {},
   "outputs": [
    {
     "name": "stdout",
     "output_type": "stream",
     "text": [
      "hellohello\n",
      "hellohello!!!\n"
     ]
    }
   ],
   "source": [
    "# Define echo_shout()\n",
    "def echo_shout(word):\n",
    "    \"\"\"Change the value of a nonlocal variable\"\"\"\n",
    "    \n",
    "    # Concatenate word with itself: echo_word\n",
    "    echo_word = word*2\n",
    "    \n",
    "    # Print echo_word\n",
    "    print(echo_word)\n",
    "    \n",
    "    # Define inner function shout()\n",
    "    def shout():\n",
    "        \"\"\"Alter a variable in the enclosing scope\"\"\"\n",
    "        \n",
    "        # Use echo_word in nonlocal scope\n",
    "        nonlocal echo_word\n",
    "        \n",
    "        # Change echo_word to echo_word concatenated with '!!!'\n",
    "        echo_word = echo_word + '!!!'\n",
    "    \n",
    "    # Call function shout()\n",
    "    shout()\n",
    "    \n",
    "    # Print echo_word\n",
    "    print(echo_word)\n",
    "\n",
    "# Call function echo_shout() with argument 'hello'\n",
    "echo_shout('hello')"
   ]
  },
  {
   "cell_type": "markdown",
   "id": "514285df",
   "metadata": {},
   "source": [
    "Bu örnekte, echo_shout() fonksiyonu içinde bir echo_word değişkeni tanımlanmış ve bu değişken echo_shout() fonksiyonu dışındaki shout() fonksiyonunda da kullanılıyor. shout() fonksiyonu içinde, nonlocal anahtar kelimesi kullanılarak, echo_word değişkeninin değeri değiştiriliyor. Bu sayede, echo_word değişkeninin son değeri echo_shout() fonksiyonu içinde kullanılan son print ifadesinde ekrana yazdırılıyor."
   ]
  },
  {
   "cell_type": "markdown",
   "id": "5b9e05b0",
   "metadata": {},
   "source": [
    "**Functions with one default argument**"
   ]
  },
  {
   "cell_type": "code",
   "execution_count": 35,
   "id": "dcf7b186",
   "metadata": {},
   "outputs": [
    {
     "name": "stdout",
     "output_type": "stream",
     "text": [
      "hey!!!\n",
      "heyheyheyheyhey!!!\n"
     ]
    }
   ],
   "source": [
    "# Define shout_echo\n",
    "def shout_echo(word1, echo=1):\n",
    "    \"\"\"Concatenate echo copies of word1 and three\n",
    "     exclamation marks at the end of the string.\"\"\"\n",
    "\n",
    "    # Concatenate echo copies of word1 using *: echo_word\n",
    "    echo_word = word1 * echo\n",
    "\n",
    "    # Concatenate '!!!' to echo_word: shout_word\n",
    "    shout_word = echo_word + '!!!'\n",
    "\n",
    "    # Return shout_word\n",
    "    return shout_word\n",
    "\n",
    "# Call shout_echo() with \"Hey\": no_echo\n",
    "no_echo = shout_echo(\"hey\")\n",
    "\n",
    "# Call shout_echo() with \"Hey\" and echo=5: with_echo\n",
    "with_echo = shout_echo(\"hey\",echo=5)\n",
    "\n",
    "# Print no_echo and with_echo\n",
    "print(no_echo)\n",
    "print(with_echo)"
   ]
  },
  {
   "cell_type": "markdown",
   "id": "fea8a324",
   "metadata": {},
   "source": [
    "# *args\n"
   ]
  },
  {
   "cell_type": "code",
   "execution_count": 45,
   "id": "c612dfe6",
   "metadata": {},
   "outputs": [
    {
     "name": "stdout",
     "output_type": "stream",
     "text": [
      "6\n",
      "30\n"
     ]
    }
   ],
   "source": [
    "def toplama(*sayilar):\n",
    "    toplam = 0\n",
    "    for sayi in sayilar:\n",
    "        toplam += sayi\n",
    "    return toplam\n",
    "\n",
    "print(toplama(1, 2, 3)) # 6\n",
    "print(toplama(4, 5, 6, 7, 8)) # 30"
   ]
  },
  {
   "cell_type": "markdown",
   "id": "e99ba0d1",
   "metadata": {},
   "source": [
    "# **Kwargs"
   ]
  },
  {
   "cell_type": "code",
   "execution_count": 44,
   "id": "654d3bc9",
   "metadata": {},
   "outputs": [
    {
     "name": "stdout",
     "output_type": "stream",
     "text": [
      "marka = Apple\n",
      "model = iPhone\n",
      "renk = gri\n"
     ]
    }
   ],
   "source": [
    "def ozellikler(**kwargs):\n",
    "    for isim, deger in kwargs.items():\n",
    "        print(\"{} = {}\".format(isim, deger))\n",
    "\n",
    "ozellikler(marka=\"Apple\", model=\"iPhone\", renk=\"gri\")\n"
   ]
  },
  {
   "cell_type": "code",
   "execution_count": null,
   "id": "d4e00ac9",
   "metadata": {},
   "outputs": [],
   "source": []
  }
 ],
 "metadata": {
  "kernelspec": {
   "display_name": "Python 3 (ipykernel)",
   "language": "python",
   "name": "python3"
  },
  "language_info": {
   "codemirror_mode": {
    "name": "ipython",
    "version": 3
   },
   "file_extension": ".py",
   "mimetype": "text/x-python",
   "name": "python",
   "nbconvert_exporter": "python",
   "pygments_lexer": "ipython3",
   "version": "3.9.13"
  }
 },
 "nbformat": 4,
 "nbformat_minor": 5
}
