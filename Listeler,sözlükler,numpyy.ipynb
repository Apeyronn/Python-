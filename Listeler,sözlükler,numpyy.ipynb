{
 "cells": [
  {
   "cell_type": "markdown",
   "id": "829e899e",
   "metadata": {},
   "source": [
    "# Listelerin Öğelerine Erişmek"
   ]
  },
  {
   "cell_type": "code",
   "execution_count": null,
   "id": "6b6f6e80",
   "metadata": {},
   "outputs": [],
   "source": [
    "kardiz = \"python\"\n",
    "kardiz[0]"
   ]
  },
  {
   "cell_type": "code",
   "execution_count": 1,
   "id": "adaef618",
   "metadata": {},
   "outputs": [
    {
     "data": {
      "text/plain": [
       "1"
      ]
     },
     "execution_count": 1,
     "metadata": {},
     "output_type": "execute_result"
    }
   ],
   "source": [
    "liste= [[0,1,2],[3,4,5],[6,7,8]]\n",
    "liste[0][1]"
   ]
  },
  {
   "cell_type": "markdown",
   "id": "321b7b39",
   "metadata": {},
   "source": [
    "# Listelerin Öğelerini Değiştirmek"
   ]
  },
  {
   "cell_type": "code",
   "execution_count": null,
   "id": "15734fc7",
   "metadata": {},
   "outputs": [],
   "source": [
    "kardiz = \"istihza\"\n",
    "kardiz = \"İ\" + kardiz[1:]\n",
    "kardiz"
   ]
  },
  {
   "cell_type": "code",
   "execution_count": null,
   "id": "e8950d08",
   "metadata": {},
   "outputs": [],
   "source": [
    "renkler = [\"kırmızı\", \"sarı\", \"mavi\", \"yeşil\", \"beyaz\"]\n",
    "print(renkler)"
   ]
  },
  {
   "cell_type": "code",
   "execution_count": null,
   "id": "4d571f70",
   "metadata": {},
   "outputs": [],
   "source": [
    "renkler[0] = \"siyah\"\n",
    "print(renkler)"
   ]
  },
  {
   "cell_type": "markdown",
   "id": "1674f82f",
   "metadata": {},
   "source": [
    "# Listeye Öğe Eklemek"
   ]
  },
  {
   "cell_type": "code",
   "execution_count": 3,
   "id": "3cf7f98c",
   "metadata": {},
   "outputs": [],
   "source": [
    "liste = [2, 4, 5, 7]"
   ]
  },
  {
   "cell_type": "code",
   "execution_count": 4,
   "id": "d92ab945",
   "metadata": {},
   "outputs": [
    {
     "data": {
      "text/plain": [
       "[2, 4, 5, 7, 8]"
      ]
     },
     "execution_count": 4,
     "metadata": {},
     "output_type": "execute_result"
    }
   ],
   "source": [
    "liste + [8]"
   ]
  },
  {
   "cell_type": "markdown",
   "id": "e678290c",
   "metadata": {},
   "source": [
    "# Listeleri Birleştirmek"
   ]
  },
  {
   "cell_type": "code",
   "execution_count": 5,
   "id": "3235c3ea",
   "metadata": {},
   "outputs": [],
   "source": [
    "derlenen_diller = [\"C\", \"C++\", \"C#\", \"Java\"]\n",
    "yorumlanan_diller = [\"Python\", \"Perl\", \"Ruby\"]"
   ]
  },
  {
   "cell_type": "code",
   "execution_count": null,
   "id": "54f6a7c6",
   "metadata": {},
   "outputs": [],
   "source": [
    "programlama_dilleri = derlenen_diller + yorumlanan_diller\n"
   ]
  },
  {
   "cell_type": "code",
   "execution_count": 6,
   "id": "70434551",
   "metadata": {},
   "outputs": [],
   "source": [
    "#########################################################################"
   ]
  },
  {
   "cell_type": "markdown",
   "id": "8830acbb",
   "metadata": {},
   "source": [
    "# Sözlükler"
   ]
  },
  {
   "cell_type": "code",
   "execution_count": 9,
   "id": "789a791a",
   "metadata": {},
   "outputs": [],
   "source": [
    "sözlük = {\"kitap\"      : \"book\",\n",
    "          \"bilgisayar\" : \"computer\",\n",
    "          \"programlama\": \"programming\",\n",
    "          \"dil\"        : \"language\",\n",
    "          \"defter\"     : \"notebook\"}"
   ]
  },
  {
   "cell_type": "code",
   "execution_count": 10,
   "id": "691e77c5",
   "metadata": {},
   "outputs": [
    {
     "data": {
      "text/plain": [
       "'book'"
      ]
     },
     "execution_count": 10,
     "metadata": {},
     "output_type": "execute_result"
    }
   ],
   "source": [
    "sözlük[\"kitap\"]"
   ]
  },
  {
   "cell_type": "markdown",
   "id": "a9f47c55",
   "metadata": {},
   "source": [
    "**listelerde ki erişmeye çalışınca sözlükler hata veriyo**"
   ]
  },
  {
   "cell_type": "code",
   "execution_count": 11,
   "id": "370bfe78",
   "metadata": {
    "scrolled": true
   },
   "outputs": [
    {
     "ename": "KeyError",
     "evalue": "0",
     "output_type": "error",
     "traceback": [
      "\u001b[1;31m---------------------------------------------------------------------------\u001b[0m",
      "\u001b[1;31mKeyError\u001b[0m                                  Traceback (most recent call last)",
      "\u001b[1;32m~\\AppData\\Local\\Temp\\ipykernel_12564\\1679372319.py\u001b[0m in \u001b[0;36m<module>\u001b[1;34m\u001b[0m\n\u001b[1;32m----> 1\u001b[1;33m \u001b[0msözlük\u001b[0m\u001b[1;33m[\u001b[0m\u001b[1;36m0\u001b[0m\u001b[1;33m]\u001b[0m\u001b[1;33m\u001b[0m\u001b[1;33m\u001b[0m\u001b[0m\n\u001b[0m",
      "\u001b[1;31mKeyError\u001b[0m: 0"
     ]
    }
   ],
   "source": [
    "sözlük[0]"
   ]
  },
  {
   "cell_type": "markdown",
   "id": "d1cfa5c9",
   "metadata": {},
   "source": [
    "## Sözlük öğelerine erişmek\n"
   ]
  },
  {
   "cell_type": "markdown",
   "id": "f898194e",
   "metadata": {},
   "source": [
    "Şu anda işlememiz gereken son ana veri tipimiz sözlüklerdir. Sözlükler şu ana kadar öğrendiğimiz veri tiplerinden farklı olarak \"gruplara\" sahip olmamızı sağlar, ancak indexe göre çalışmak yerine Key/Value (Anahtar/Değer) çiftlerini kullanılırlar. Bunun bazı önemli faydaları var, ancak öncesinde nasıl çalıştığını görelim.\n",
    "\n",
    "Önemli Not: Sözlükler de küme parantezleriyle gösterilir, ancak bir set olarak algılanmamaları için Key ve Value değerlerinden oluşması gerekir."
   ]
  },
  {
   "cell_type": "code",
   "execution_count": 1,
   "id": "b26d87a3",
   "metadata": {},
   "outputs": [
    {
     "name": "stdout",
     "output_type": "stream",
     "text": [
      "8\n"
     ]
    }
   ],
   "source": [
    "new_dictionary = {'key_for_this_thing': 8}\n",
    "print(new_dictionary['key_for_this_thing'])"
   ]
  },
  {
   "cell_type": "markdown",
   "id": "2a51989e",
   "metadata": {},
   "source": [
    "Sözlükler, her bir key değerinin içerisinde birden fazla farklı veri tipi bulundurabilir."
   ]
  },
  {
   "cell_type": "code",
   "execution_count": 2,
   "id": "6c26b19a",
   "metadata": {},
   "outputs": [
    {
     "name": "stdout",
     "output_type": "stream",
     "text": [
      "[0, 1, 2, 3, 4]\n"
     ]
    }
   ],
   "source": [
    "new_dictionary = {'key_for_a_list': [0,1,2,3,4], 'key_for_another_dictionary': {'bob': 1}}\n",
    "print(new_dictionary['key_for_a_list'])"
   ]
  },
  {
   "cell_type": "code",
   "execution_count": 3,
   "id": "6d955198",
   "metadata": {},
   "outputs": [
    {
     "name": "stdout",
     "output_type": "stream",
     "text": [
      "{'bob': 1}\n",
      "1\n"
     ]
    }
   ],
   "source": [
    "print(new_dictionary['key_for_another_dictionary'])\n",
    "print(new_dictionary['key_for_another_dictionary']['bob'])"
   ]
  },
  {
   "cell_type": "code",
   "execution_count": 4,
   "id": "0a0f73d7",
   "metadata": {},
   "outputs": [
    {
     "name": "stdout",
     "output_type": "stream",
     "text": [
      "{1914: ['Red Sox', 5, 10, 0], 1915: ['Red Sox', 43, 104, 4]}\n",
      "['Red Sox', 5, 10, 0]\n"
     ]
    }
   ],
   "source": [
    "\n",
    "career_stats = {'babe_ruth': {1914: [\"Red Sox\", 5, 10, 0], 1915:['Red Sox', 43, 104, 4]},\n",
    "                'gavvy_cravath': {1914: ['Phillies',149,604,14]}}\n",
    "\n",
    "print(career_stats['babe_ruth'])\n",
    "print(career_stats['babe_ruth'][1914])"
   ]
  },
  {
   "cell_type": "code",
   "execution_count": 5,
   "id": "687729f3",
   "metadata": {},
   "outputs": [
    {
     "name": "stdout",
     "output_type": "stream",
     "text": [
      "dict_keys(['babe_ruth', 'gavvy_cravath'])\n",
      "dict_values([{1914: ['Red Sox', 5, 10, 0], 1915: ['Red Sox', 43, 104, 4]}, {1914: ['Phillies', 149, 604, 14]}])\n"
     ]
    }
   ],
   "source": [
    "# Ek olarak sadece key ve value değerine de ulaşılabilir.\n",
    "print(career_stats.keys())\n",
    "print(career_stats.values())"
   ]
  },
  {
   "cell_type": "markdown",
   "id": "fe5e6517",
   "metadata": {},
   "source": [
    "Sözlükleri sevmemizin nedeni, veri almada gerçekten hızlı olmaları ve içermek istediğimiz her değere bir anahtar atamamıza izin vermeleridir."
   ]
  },
  {
   "cell_type": "markdown",
   "id": "769270fc",
   "metadata": {},
   "source": [
    "# Sözlüklere Öğe Eklemek"
   ]
  },
  {
   "cell_type": "code",
   "execution_count": null,
   "id": "85eae7f3",
   "metadata": {},
   "outputs": [],
   "source": [
    "özlük = {}"
   ]
  },
  {
   "cell_type": "code",
   "execution_count": null,
   "id": "331bc4e9",
   "metadata": {},
   "outputs": [],
   "source": [
    "sözlük[anahtar] = değer"
   ]
  },
  {
   "cell_type": "code",
   "execution_count": null,
   "id": "c02add60",
   "metadata": {},
   "outputs": [],
   "source": [
    "sözlük[\"Ahmet\"] = \"Adana\""
   ]
  },
  {
   "cell_type": "code",
   "execution_count": null,
   "id": "d94ecf41",
   "metadata": {},
   "outputs": [],
   "source": [
    "sözlük"
   ]
  },
  {
   "cell_type": "markdown",
   "id": "20006ed1",
   "metadata": {},
   "source": [
    "# Sözlük Öğeleri Üzerinde Değişiklik Yapmak"
   ]
  },
  {
   "cell_type": "code",
   "execution_count": null,
   "id": "57a0487e",
   "metadata": {},
   "outputs": [],
   "source": [
    "notlar = {'Seda': 98, 'Ege': 95, 'Mehmet': 77,\n",
    "'Zeynep': 100, 'Deniz': 95, 'Ahmet': 45}"
   ]
  },
  {
   "cell_type": "code",
   "execution_count": null,
   "id": "0dd93224",
   "metadata": {},
   "outputs": [],
   "source": [
    "notlar[\"Ahmet\"] = 65\n",
    "print(notlar)"
   ]
  },
  {
   "cell_type": "code",
   "execution_count": null,
   "id": "880e0b53",
   "metadata": {},
   "outputs": [],
   "source": [
    "#######################################################"
   ]
  },
  {
   "cell_type": "markdown",
   "id": "3629e00f",
   "metadata": {},
   "source": [
    "# Numpy"
   ]
  },
  {
   "cell_type": "code",
   "execution_count": 13,
   "id": "dd961735",
   "metadata": {},
   "outputs": [
    {
     "name": "stdout",
     "output_type": "stream",
     "text": [
      "6\n"
     ]
    }
   ],
   "source": [
    "import numpy as np\n",
    "# 2 boyutlu bir NumPy dizisi oluştur\n",
    "my_2d_array = np.array([[1, 2, 3], [4, 5, 6], [7, 8, 9]])\n",
    "\n",
    "# 2. satır, 3. sütundaki elemana eriş\n",
    "print(my_2d_array[1, 2])\n"
   ]
  },
  {
   "cell_type": "code",
   "execution_count": 14,
   "id": "e0c0feff",
   "metadata": {},
   "outputs": [
    {
     "data": {
      "text/plain": [
       "array([2, 5])"
      ]
     },
     "execution_count": 14,
     "metadata": {},
     "output_type": "execute_result"
    }
   ],
   "source": [
    "my_2d_array[0:2,1]"
   ]
  },
  {
   "cell_type": "code",
   "execution_count": 19,
   "id": "4e658e3a",
   "metadata": {},
   "outputs": [
    {
     "data": {
      "text/plain": [
       "array([[1, 2, 3]])"
      ]
     },
     "execution_count": 19,
     "metadata": {},
     "output_type": "execute_result"
    }
   ],
   "source": [
    " my_2d_array[:1] # başlangıç 0.satırdan 1 e kadar"
   ]
  },
  {
   "cell_type": "code",
   "execution_count": null,
   "id": "6edcd6c3",
   "metadata": {},
   "outputs": [],
   "source": [
    "numpy da toplama"
   ]
  },
  {
   "cell_type": "code",
   "execution_count": 24,
   "id": "98e5a4ef",
   "metadata": {},
   "outputs": [],
   "source": [
    "numpy_array_from_list = np.array([1, 2, 3, 4, 5])"
   ]
  },
  {
   "cell_type": "code",
   "execution_count": 25,
   "id": "f27eb37d",
   "metadata": {},
   "outputs": [
    {
     "data": {
      "text/plain": [
       "array([ 6,  7,  8,  9, 10])"
      ]
     },
     "execution_count": 25,
     "metadata": {},
     "output_type": "execute_result"
    }
   ],
   "source": [
    "numpy_array_from_list+5"
   ]
  },
  {
   "cell_type": "code",
   "execution_count": 27,
   "id": "1f8eca68",
   "metadata": {},
   "outputs": [
    {
     "data": {
      "text/plain": [
       "6"
      ]
     },
     "execution_count": 27,
     "metadata": {},
     "output_type": "execute_result"
    }
   ],
   "source": [
    "numpy_array_from_list[0]+5"
   ]
  }
 ],
 "metadata": {
  "kernelspec": {
   "display_name": "Python 3 (ipykernel)",
   "language": "python",
   "name": "python3"
  },
  "language_info": {
   "codemirror_mode": {
    "name": "ipython",
    "version": 3
   },
   "file_extension": ".py",
   "mimetype": "text/x-python",
   "name": "python",
   "nbconvert_exporter": "python",
   "pygments_lexer": "ipython3",
   "version": "3.9.13"
  }
 },
 "nbformat": 4,
 "nbformat_minor": 5
}
