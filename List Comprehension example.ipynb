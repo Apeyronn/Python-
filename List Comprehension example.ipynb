{
 "cells": [
  {
   "cell_type": "code",
   "execution_count": 1,
   "id": "f5716791",
   "metadata": {},
   "outputs": [
    {
     "name": "stdout",
     "output_type": "stream",
     "text": [
      "Encoded Menu Sequence: 010110000\n"
     ]
    }
   ],
   "source": [
    "def encode_menu_sequence(menu_sequence):\n",
    "    # Benzersiz menü sınıflarını belirleyin\n",
    "    unique_menus = ['menu1', 'menu2', 'menu3', 'menu4', 'menu5', 'menu6', 'menu7', 'menu8', 'menu9']\n",
    "    # Boş bir liste oluşturun\n",
    "    binary_code = []\n",
    "    # Her bir benzersiz menü için kontrol yapın\n",
    "    for menu in unique_menus:\n",
    "        # Eğer menü sıralamada varsa '1', yoksa '0' ekle\n",
    "        if menu in menu_sequence:\n",
    "            binary_code.append('1')\n",
    "        else:\n",
    "            binary_code.append('0')\n",
    "    # Sonuç listesini birleştirerek string olarak döndürün\n",
    "    return ''.join(binary_code)\n",
    "\n",
    "# Fonksiyonu test edelim\n",
    "menu_sequence = 'menu2, menu4, menu5'\n",
    "encoded_menu = encode_menu_sequence(menu_sequence)\n",
    "print(\"Encoded Menu Sequence:\", encoded_menu)\n"
   ]
  },
  {
   "cell_type": "code",
   "execution_count": 2,
   "id": "57ecbd5f",
   "metadata": {},
   "outputs": [
    {
     "name": "stdout",
     "output_type": "stream",
     "text": [
      "Encoded Menu Sequence: 010110000\n"
     ]
    }
   ],
   "source": [
    "def encode_menu_sequence(menu_sequence):\n",
    "    # Benzersiz menü sınıflarını belirleyin\n",
    "    unique_menus = ['menu1', 'menu2', 'menu3', 'menu4', 'menu5', 'menu6', 'menu7', 'menu8', 'menu9']\n",
    "    # Menü sıralamasını binary koda dönüştürün\n",
    "    binary_code = ''.join(['1' if menu in menu_sequence else '0' for menu in unique_menus])\n",
    "    # Sonuç string olarak döndürün\n",
    "    return binary_code\n",
    "\n",
    "# Fonksiyonu test edelim\n",
    "menu_sequence = 'menu2, menu4, menu5'\n",
    "encoded_menu = encode_menu_sequence(menu_sequence)\n",
    "print(\"Encoded Menu Sequence:\", encoded_menu)\n"
   ]
  },
  {
   "cell_type": "code",
   "execution_count": null,
   "id": "25308426",
   "metadata": {},
   "outputs": [],
   "source": []
  }
 ],
 "metadata": {
  "kernelspec": {
   "display_name": "Python 3 (ipykernel)",
   "language": "python",
   "name": "python3"
  },
  "language_info": {
   "codemirror_mode": {
    "name": "ipython",
    "version": 3
   },
   "file_extension": ".py",
   "mimetype": "text/x-python",
   "name": "python",
   "nbconvert_exporter": "python",
   "pygments_lexer": "ipython3",
   "version": "3.11.3"
  }
 },
 "nbformat": 4,
 "nbformat_minor": 5
}
